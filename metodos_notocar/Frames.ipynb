{
 "cells": [
  {
   "cell_type": "code",
   "execution_count": 2,
   "metadata": {},
   "outputs": [],
   "source": [
    "import numpy as np \n",
    "import pandas as pd"
   ]
  },
  {
   "cell_type": "markdown",
   "metadata": {},
   "source": [
    "## INPUT DATA"
   ]
  },
  {
   "cell_type": "code",
   "execution_count": 170,
   "metadata": {},
   "outputs": [
    {
     "name": "stdout",
     "output_type": "stream",
     "text": [
      "joint_data \n",
      "    joint    x    y\n",
      "0      1    0    0\n",
      "1      2  120  240\n",
      "2      3  360  240\n",
      "\n",
      "\n",
      "suport_data \n",
      "    suport  x  y  r\n",
      "0       1  1  1  1\n",
      "1       3  1  1  1\n",
      "\n",
      "\n",
      "materialp_data \n",
      "    type      E\n",
      "0     1  29000\n",
      "\n",
      "\n",
      "crossec_data \n",
      "    type  area  inertia\n",
      "0   1.0  11.8    310.0\n",
      "\n",
      "\n",
      "member_data \n",
      "    member  start  end  material_type  cross_type\n",
      "0       1      1    2              1           1\n",
      "1       2      2    3              1           1\n",
      "\n",
      "\n",
      "jointload_data \n",
      "    joint  x_load  y_load  m_load\n",
      "0      2       0       0   -1500\n",
      "\n",
      "\n",
      "memberload_data \n",
      "    member loadtype       w position\n",
      "0       1   x_conc  80.498  134.165\n",
      "1       1   y_conc  40.249  134.165\n",
      "2       2   C_dist   0.125   (0, 0)\n",
      "\n",
      "\n"
     ]
    },
    {
     "name": "stderr",
     "output_type": "stream",
     "text": [
      "<ipython-input-170-a544c6ccf9fb>:27: VisibleDeprecationWarning: Creating an ndarray from ragged nested sequences (which is a list-or-tuple of lists-or-tuples-or ndarrays with different lengths or shapes) is deprecated. If you meant to do this, you must specify 'dtype=object' when creating the ndarray\n",
      "  memberload_data = pd.DataFrame(np.array([[1,'x_conc',80.498,268.33/2],[1,'y_conc',40.249,268.33/2],\n"
     ]
    }
   ],
   "source": [
    "types_of_loadings = ['y_conc','moment','C_dist','L_dist','x_conc','D_axial']\n",
    "## y_conc = carga concentrada en y ingresar el valor de la carga (+ en direccion contraria al eje y) y el valor de la posicion\n",
    "## con respecto al primer nodo\n",
    "\n",
    "##moment = momento aplicado ingresar el valor del momento aplicado (+ en el sentido de las agujas del reloj) y la posicion\n",
    "## con respecto al primer nodo.\n",
    "\n",
    "##C_dist = carga distribuida uniformemente (constante) ingresar el valor de la carga distribuida y la posicion con respecto\n",
    "## al primer y segundo nodo en forma de tupla ()\n",
    "\n",
    "## L_dist = carga distribuida en forma lineal. ingresar el valor de el valor minimo y maximo de la carga distribuida en forma de\n",
    "## tupla () y la posicion de esas magnitudes en forma de tupla () empezar desde el primer nodo, las posiciones son l1: desde el\n",
    "## primer nodo, l2: desde el segundo nodo.\n",
    "\n",
    "## x_conc = carga caoncertrada axial, ingresar la magnitud de la carga puntual axial y la posicion de esta carga desde el primer\n",
    "## nodo\n",
    "\n",
    "## D_axial = carga distribuida axial, ingresar el valor de la carga dist axial y las posiciones de igual manera que las cargas\n",
    "## distribuidas de manera perpendicular al eje del elemento\n",
    "\n",
    "joint_data = pd.DataFrame(np.array([[1,0,0],[2,120,240],[3,360,240]]),columns=['joint','x','y'])\n",
    "suport_data = pd.DataFrame(np.array([[1,1,1,1],[3,1,1,1]]),columns = ['suport','x','y','r'])\n",
    "materialp_data = pd.DataFrame(np.array([[1,29000]]),columns=['type','E'])\n",
    "crossec_data = pd.DataFrame(np.array([[1,11.8,310]]),columns=['type','area','inertia'])\n",
    "member_data = pd.DataFrame(np.array([[1,1,2,1,1],[2,2,3,1,1],]),columns=['member','start','end','material_type','cross_type'])\n",
    "jointload_data = pd.DataFrame(np.array([[2,0,0,-1500]]),columns = ['joint','x_load','y_load','m_load'])\n",
    "memberload_data = pd.DataFrame(np.array([[1,'x_conc',80.498,268.33/2],[1,'y_conc',40.249,268.33/2],\n",
    "                                        [2,'C_dist',0.125,(0,0)]]),columns = ['member','loadtype','w','position'])\n",
    "\n",
    "\n",
    "memberload_data.member = memberload_data.member.astype('int')\n",
    "\n",
    "names = zip(['joint_data','suport_data','materialp_data','crossec_data','member_data','jointload_data','memberload_data'],\n",
    "             [joint_data,suport_data,materialp_data,crossec_data,member_data,jointload_data,memberload_data])\n",
    "\n",
    "for i,a in names:\n",
    "    print(i,'\\n',a)\n",
    "    print('\\n')"
   ]
  },
  {
   "cell_type": "markdown",
   "metadata": {},
   "source": [
    "## SETTING PARAMETERS"
   ]
  },
  {
   "cell_type": "code",
   "execution_count": 171,
   "metadata": {},
   "outputs": [
    {
     "data": {
      "text/plain": [
       "6"
      ]
     },
     "execution_count": 171,
     "metadata": {},
     "output_type": "execute_result"
    }
   ],
   "source": [
    "ncjt = 3\n",
    "nj = len(joint_data)\n",
    "ns = len(suport_data)\n",
    "rc = (suport_data[['x','y','r']] == 1).sum().sum()\n",
    "ndof = (ncjt*nj)-rc\n",
    "rc"
   ]
  },
  {
   "cell_type": "code",
   "execution_count": 172,
   "metadata": {},
   "outputs": [
    {
     "data": {
      "text/plain": [
       "array([[4],\n",
       "       [5],\n",
       "       [6],\n",
       "       [1],\n",
       "       [2],\n",
       "       [3],\n",
       "       [7],\n",
       "       [8],\n",
       "       [9]], dtype=int64)"
      ]
     },
     "execution_count": 172,
     "metadata": {},
     "output_type": "execute_result"
    }
   ],
   "source": [
    "def structure_numbers():\n",
    "    k = ndof\n",
    "    j=0\n",
    "    str_number = np.zeros(ncjt*nj).reshape(ncjt*nj,1)\n",
    "    for i in range(1,nj+1):\n",
    "        if any(suport_data.suport==i):\n",
    "            row = suport_data[suport_data.suport == i]\n",
    "            \n",
    "            if row.x.values == 1:\n",
    "                k+=1\n",
    "                str_number[(ncjt*i)-3]=k\n",
    "            else:\n",
    "                j+=1\n",
    "                str_number[(ncjt*i)-3]=j\n",
    "                \n",
    "            if row.y.values == 1:\n",
    "                k+=1\n",
    "                str_number[(ncjt*i)-2]=k\n",
    "            else:\n",
    "                j+=1\n",
    "                str_number[(ncjt*i)-2]=j\n",
    "                \n",
    "            if row.r.values == 1:\n",
    "                k+=1\n",
    "                str_number[(ncjt*i)-1]=k\n",
    "            else:\n",
    "                j+=1\n",
    "                str_number[(ncjt*i)-1]=j\n",
    "        else:\n",
    "            j+=1\n",
    "            str_number[(ncjt*i)-3]=j\n",
    "            j+=1\n",
    "            str_number[(ncjt*i)-2]=j\n",
    "            j+=1\n",
    "            str_number[(ncjt*i)-1]=j\n",
    "            \n",
    "    return str_number.astype('int64')\n",
    "\n",
    "str_number = structure_numbers()\n",
    "str_number"
   ]
  },
  {
   "cell_type": "markdown",
   "metadata": {},
   "source": [
    "## MEMBER PARAMETERS, TRANSFORMATION MATRIX, LOCAL AND GLOBAL STIFFNESS MATRICES"
   ]
  },
  {
   "cell_type": "code",
   "execution_count": 173,
   "metadata": {},
   "outputs": [
    {
     "data": {
      "text/plain": [
       "array([[ 1.42583333e+03,  0.00000000e+00,  0.00000000e+00,\n",
       "        -1.42583333e+03,  0.00000000e+00,  0.00000000e+00],\n",
       "       [ 0.00000000e+00,  7.80381944e+00,  9.36458333e+02,\n",
       "         0.00000000e+00, -7.80381944e+00,  9.36458333e+02],\n",
       "       [ 0.00000000e+00,  9.36458333e+02,  1.49833333e+05,\n",
       "         0.00000000e+00, -9.36458333e+02,  7.49166667e+04],\n",
       "       [-1.42583333e+03,  0.00000000e+00,  0.00000000e+00,\n",
       "         1.42583333e+03,  0.00000000e+00,  0.00000000e+00],\n",
       "       [ 0.00000000e+00, -7.80381944e+00, -9.36458333e+02,\n",
       "         0.00000000e+00,  7.80381944e+00, -9.36458333e+02],\n",
       "       [ 0.00000000e+00,  9.36458333e+02,  7.49166667e+04,\n",
       "         0.00000000e+00, -9.36458333e+02,  1.49833333e+05]])"
      ]
     },
     "execution_count": 173,
     "metadata": {},
     "output_type": "execute_result"
    }
   ],
   "source": [
    "def member_parameters(member_number):\n",
    "    info = member_data[member_data.member==member_number]\n",
    "    start = info.start.item()\n",
    "    end = info.end.item()\n",
    "    E = materialp_data[materialp_data.type==info.material_type.item()].E.item()\n",
    "    A = crossec_data[crossec_data.type==info.cross_type.item()].area.item()\n",
    "    I = crossec_data[crossec_data.type==info.cross_type.item()].inertia.item()\n",
    "    x_b = joint_data[joint_data.joint==start].x.item() \n",
    "    x_e = joint_data[joint_data.joint==end].x.item() \n",
    "    y_b = joint_data[joint_data.joint==start].y.item() \n",
    "    y_e = joint_data[joint_data.joint==end].y.item() \n",
    "    l = np.sqrt((x_e-x_b)**2+(y_e-y_b)**2)\n",
    "    costheta = (x_e-x_b)/l\n",
    "    sintheta = (y_e-y_b)/l\n",
    "    membercode_number=np.array([str_number[ncjt*start-3].item(),str_number[ncjt*start-2].item(),str_number[ncjt*start-1].item(),\n",
    "                                str_number[ncjt*end-3].item(),str_number[ncjt*end-2].item(),str_number[ncjt*end-1].item()]).reshape(2*ncjt,1)\n",
    "    \n",
    "    return (E,A,I,l,costheta,sintheta,membercode_number)\n",
    "\n",
    "def transformation_matrix(member_number):\n",
    "    _,_,_,_,costheta,sintheta,_ = member_parameters(member_number)\n",
    "    T = np.array([costheta,sintheta,0,0,0,0,\n",
    "                  -sintheta,costheta,0,0,0,0,\n",
    "                  0,0,1,0,0,0,\n",
    "                  0,0,0,costheta,sintheta,0,\n",
    "                  0,0,0,-sintheta,costheta,0,\n",
    "                  0,0,0,0,0,1]).reshape(6,6)\n",
    "    return T\n",
    "\n",
    "def local_and_global_stiffness_matrix(member_number):\n",
    "    E,A,I,l,costheta,sintheta,membercode_number = member_parameters(member_number)\n",
    "    stiffness = E*I/l**3\n",
    "    T = transformation_matrix(member_number)\n",
    "    a1 =(A*l**2)/I\n",
    "    a2 = 4*l**2\n",
    "    a3=2*l**2\n",
    "    k_local = stiffness*np.array([a1,0,0,-a1,0,0,\n",
    "                                  0,12,6*l,0,-12,6*l,\n",
    "                                  0,6*l,a2,0,-6*l,a3,\n",
    "                                  -a1,0,0,a1,0,0,\n",
    "                                  0,-12,-6*l,0,12,-6*l,\n",
    "                                  0,6*l,a3,0,-6*l,a2]).reshape(6,6)\n",
    "    k_global = np.dot(np.dot(T.T,k_local),T)\n",
    "    return (k_local,k_global,membercode_number)\n",
    "\n",
    "member_parameters(1)[-1]\n",
    "a= local_and_global_stiffness_matrix(1)[1]\n",
    "b= local_and_global_stiffness_matrix(2)[1]\n",
    "b\n",
    "\n",
    "# for i in members:\n",
    "#     print('--------------member no.{}--------------------'.format(i),'\\n')\n",
    "#     print('member_parameters','\\n',member_parameters(i),'\\n','\\n')\n",
    "#     print('transformation','\\n',transformation_matrix(i),'\\n','\\n')\n",
    "#     print('local_and_global','\\n',local_and_global_stiffness_matrix(i),'\\n','\\n','\\n')"
   ]
  },
  {
   "cell_type": "markdown",
   "metadata": {},
   "source": [
    "## STRUCTURE STIFFNESS MATRIX"
   ]
  },
  {
   "cell_type": "code",
   "execution_count": 174,
   "metadata": {},
   "outputs": [
    {
     "data": {
      "text/plain": [
       "array([[  1685.36132088,    507.88805781,    670.07503726],\n",
       "       [   507.88805781,   1029.16389371,    601.4208147 ],\n",
       "       [   670.07503726,    601.4208147 , 283848.34078482]])"
      ]
     },
     "execution_count": 174,
     "metadata": {},
     "output_type": "execute_result"
    }
   ],
   "source": [
    "def structure_stiffness_matrix():\n",
    "    members = len(member_data)\n",
    "    S = np.zeros(ndof*ndof).reshape(ndof,ndof)\n",
    "    for member in range (1,members+1):\n",
    "        k_local,k_global,membercode_number = local_and_global_stiffness_matrix(member)\n",
    "\n",
    "        for i in range(1,(2*ncjt)+1):\n",
    "            n1 = membercode_number[i-1]\n",
    "            if n1 <= ndof:\n",
    "                for j in range(1,(2*ncjt)+1):\n",
    "                    n2 = membercode_number[j-1]\n",
    "                    if n2 <= ndof:\n",
    "                        S[n1-1,n2-1] = S[n1-1,n2-1] + k_global[i-1,j-1]\n",
    "                    else:\n",
    "                        continue\n",
    "            else:\n",
    "                continue\n",
    "    return S\n",
    "\n",
    "structure_stiffness_matrix()"
   ]
  },
  {
   "cell_type": "markdown",
   "metadata": {},
   "source": [
    "## JOINT LOAD VECTOR"
   ]
  },
  {
   "cell_type": "code",
   "execution_count": 175,
   "metadata": {},
   "outputs": [
    {
     "data": {
      "text/plain": [
       "array([[    0.],\n",
       "       [    0.],\n",
       "       [-1500.]])"
      ]
     },
     "execution_count": 175,
     "metadata": {},
     "output_type": "execute_result"
    }
   ],
   "source": [
    "def joint_load_vector():\n",
    "    p = np.zeros(ndof).reshape(ndof,1)\n",
    "    rows = len(jointload_data)\n",
    "    for i in range(rows):\n",
    "        loaded_joint = int(jointload_data.iloc[i].joint.item())\n",
    "        Xstr_number = str_number[(ncjt*loaded_joint)-3].item()\n",
    "        Ystr_number = str_number[(ncjt*loaded_joint)-2].item()\n",
    "        Rstr_number = str_number[(ncjt*loaded_joint)-1].item()\n",
    "        if Xstr_number <= ndof:\n",
    "            p[Xstr_number-1] = jointload_data.iloc[i].x_load.item()\n",
    "        else:\n",
    "            None\n",
    "\n",
    "        if Ystr_number <= ndof:\n",
    "            p[Ystr_number-1] = jointload_data.iloc[i].y_load.item()\n",
    "        else:\n",
    "            None\n",
    "        if Rstr_number <= ndof:\n",
    "            p[Rstr_number-1] = jointload_data.iloc[i].m_load.item()\n",
    "    return p\n",
    "\n",
    "joint_load_vector()"
   ]
  },
  {
   "cell_type": "markdown",
   "metadata": {},
   "source": [
    "## MEMBER AND STRUCTURE EQUIVALENT JOINT LOAD VECTOR"
   ]
  },
  {
   "cell_type": "code",
   "execution_count": 176,
   "metadata": {},
   "outputs": [
    {
     "data": {
      "text/plain": [
       "array([[-6.18056944e-05],\n",
       "       [ 6.00000899e+01],\n",
       "       [-7.50001771e+02]])"
      ]
     },
     "execution_count": 176,
     "metadata": {},
     "output_type": "execute_result"
    }
   ],
   "source": [
    "def member_equivalent_joint_loadvector(member):\n",
    "    info = memberload_data[memberload_data.member == member]\n",
    "    Qf= np.zeros(2*ncjt).reshape(2*ncjt,1)\n",
    "    for i in range(len(info)):\n",
    "        lp = info.iloc[i].position\n",
    "        load_type = info.iloc[i].loadtype\n",
    "        w = info.iloc[i].w\n",
    "        _,_,_,l,_,_,membercode_number = member_parameters(member)\n",
    "\n",
    "        if load_type == types_of_loadings[0]:\n",
    "            v1 = ((w/l**3)*(l-lp)**2)*((3*lp)+(l-lp))\n",
    "            m1 = (w/l**2)*(lp*(l-lp)**2)\n",
    "            v2 = ((w/l**3)*lp**2)*(lp+(3*(l-lp)))\n",
    "            m2 = -1*(w/l**2)*((lp**2)*(l-lp))\n",
    "            Qf = Qf + np.array([[0],[v1],[m1],[0],[v2],[m2]])\n",
    "\n",
    "        elif load_type == types_of_loadings[1]:\n",
    "            v1 = (-1*6*w/l**3)*(lp*(l-lp))\n",
    "            m1 = ((w/l**2)*(l-lp))*((l-lp)-(2*lp))\n",
    "            v2 = (6*w/l**3)*(lp*(l-lp))\n",
    "            m2 = ((w/l**2)*lp)*(lp-(2*(l-lp)))\n",
    "            Qf = Qf + np.array([[0],[v1],[m1],[0],[v2],[m2]])\n",
    "\n",
    "        elif load_type == types_of_loadings[2]:\n",
    "            v1 = (w*l/2)*(1-((lp[0]/l**4)*((2*l**3)-((2*lp[0]**2)*l)+lp[0]**3))-(((lp[1]**3)/l**4)*((2*l)-lp[1])))\n",
    "            m1 = ((w*l**2)/12)*(1-(((lp[0]**2)/(l**4))*(6*l**2-8*lp[0]*l+3*lp[0]**2))-(((lp[1]**3)/(l**4))*(4*l-3*lp[1])))                                                                                       \n",
    "            v2 = (w*l/2)*(1-(((lp[0]**3)/(l**4))*(2*l-lp[0]))-((lp[1]/l**4)*(2*l**3-((2*lp[1]**2)*l)+lp[1]**3)))\n",
    "            m2 = (-1*(w*l**2)/12)*(1-(((lp[1]**2)/(l**4))*(6*l**2-8*lp[1]*l+3*lp[1]**2))-(((lp[0]**3)/(l**4))*(4*l-3*lp[0])))\n",
    "            Qf = Qf + np.array([[0],[v1],[m1],[0],[v2],[m2]])\n",
    "\n",
    "        elif load_type == types_of_loadings[3]:\n",
    "            a = (7*l+8*lp[0])-(((lp[1]*(3*l+2*lp[0]))/(l-lp[0]))*(1+((lp[1])/(l-lp[0]))+((lp[1]**2)/(l-lp[0])**2)))+((2*lp[1]**4)/(l-lp[0])**3) \n",
    "            b = ((3*l+2*lp[0])*(1+((lp[1])/(l-lp[0]))+((lp[1]**2)/(l-lp[0])**2)))-(((lp[1]**3)/(l-lp[0])**2)*(2+((15*l-8*lp[1])/(l-lp[0]))))\n",
    "            c = (3*l+12*lp[0])-(((lp[1]*(2*l+3*lp[0]))/(l-lp[0]))*(1+((lp[1])/(l-lp[0]))+((lp[1]**2)/(l-lp[0])**2)))+((3*lp[1]**4)/(l-lp[0])**3)\n",
    "            d = ((2*l+3*lp[0])*(1+((lp[1])/(l-lp[0]))+((lp[1]**2)/(l-lp[0])**2)))-(((3*lp[1]**3)/(l-lp[0])**2)*(1+((5*l-4*lp[1])/(l-lp[0]))))\n",
    "            v1 = a*((w[0]*(l-lp[0])**3)/(20*l**3))+b*((w[1]*(l-lp[0])**3)/(20*l**3))\n",
    "            m1 = c*((w[0]*(l-lp[0])**3)/(60*l**2))+d*((w[1]*(l-lp[0])**3)/(60*l**2))\n",
    "            v2 = (((w[0]+w[1])/2)*(l-lp[0]-lp[1]))-v1\n",
    "            m2 = (((l-lp[0]-lp[1])/6)*((w[0]*(-2*l+2*lp[0]-lp[1]))-(w[1]*(l-lp[0]+2*lp[1]))))+(v1*l)-m1\n",
    "            Qf = Qf + np.array([[0],[v1],[m1],[0],[v2],[m2]])\n",
    "        \n",
    "        elif load_type == types_of_loadings[4]:\n",
    "            A1 = (w*(l-lp))/l \n",
    "            A2 = (w*lp)/l\n",
    "            Qf = Qf + np.array([[A1],[0],[0],[A2],[0],[0]])\n",
    "            \n",
    "        elif load_type == types_of_loadings[5]:\n",
    "            A1 = (w/(2*l))*(l-lp[0]-lp[1])*(l-lp[0]+lp[1])\n",
    "            A2 = (w/(2*l))*(l-lp[0]-lp[1])*(l+lp[0]-lp[1])\n",
    "            Qf = Qf + np.array([[A1],[0],[0],[A2],[0],[0]])\n",
    "            \n",
    "        else:\n",
    "            print('bad inputs in: {}'.format(load_type))\n",
    "            \n",
    "        \n",
    "    return Qf\n",
    "\n",
    "\n",
    "def structure_equivalent_joint_loadvector():\n",
    "    pf = np.zeros(ndof).reshape(ndof,1)\n",
    "    for m in set(memberload_data.member.values):\n",
    "        _,_,_,_,_,_,membercode_number = member_parameters(m)\n",
    "        T = transformation_matrix(m)\n",
    "        Qf = member_equivalent_joint_loadvector(m)\n",
    "        Ff= np.dot(T.T,Qf)\n",
    "        for i,a in zip(membercode_number.reshape(-1,),list(range(len(Qf)))):\n",
    "            if i <= ndof:\n",
    "                pf[i-1] = pf[i-1] + Ff[a].item()\n",
    "            else:\n",
    "                None\n",
    "    return pf\n",
    "\n",
    "structure_equivalent_joint_loadvector()"
   ]
  },
  {
   "cell_type": "markdown",
   "metadata": {},
   "source": [
    "## JOINT DISPLACEMENTS"
   ]
  },
  {
   "cell_type": "code",
   "execution_count": 177,
   "metadata": {},
   "outputs": [
    {
     "data": {
      "text/plain": [
       "array([[ 0.02130148],\n",
       "       [-0.06732193],\n",
       "       [-0.00254989]])"
      ]
     },
     "execution_count": 177,
     "metadata": {},
     "output_type": "execute_result"
    }
   ],
   "source": [
    "displacements = np.dot(np.linalg.inv(structure_stiffness_matrix()),(joint_load_vector() - structure_equivalent_joint_loadvector()))\n",
    "displacements"
   ]
  },
  {
   "cell_type": "markdown",
   "metadata": {},
   "source": [
    "## REACTIONS"
   ]
  },
  {
   "cell_type": "code",
   "execution_count": 186,
   "metadata": {},
   "outputs": [
    {
     "data": {
      "text/plain": [
       "array([[  30.37235513],\n",
       "       [ 102.08626295],\n",
       "       [1215.95019753],\n",
       "       [ -30.37235513],\n",
       "       [  17.91323708],\n",
       "       [-854.07369273]])"
      ]
     },
     "execution_count": 186,
     "metadata": {},
     "output_type": "execute_result"
    }
   ],
   "source": [
    "members = len(member_data)\n",
    "reactions = np.zeros(rc).reshape(rc,1)\n",
    "for member in range(1,members+1):\n",
    "    _,_,_,_,_,_,membercode_number = member_parameters(member)\n",
    "    T = transformation_matrix(member)\n",
    "    k_local,_,_ =local_and_global_stiffness_matrix(member) \n",
    "    membglobal_disp = np.zeros(2*ncjt).reshape(2*ncjt,1)\n",
    "    for i in range(2*ncjt):\n",
    "        n = membercode_number[i].item()\n",
    "        if n <= ndof:\n",
    "            membglobal_disp[i]=displacements[membercode_number[i].item()-1]\n",
    "        else:\n",
    "            None\n",
    "            \n",
    "    memblocal_disp = T.dot(membglobal_disp)\n",
    "    memblocal_forces = k_local.dot(memblocal_disp)+member_equivalent_joint_loadvector(member)\n",
    "    membglobal_forces = T.T.dot(memblocal_forces)\n",
    "    for i in range(2*ncjt):\n",
    "        n = membercode_number[i].item()\n",
    "        if n > ndof:\n",
    "            reactions[n-ndof-1]=reactions[n-ndof-1]+membglobal_forces[i]\n",
    "        else:\n",
    "            None\n",
    "reactions"
   ]
  },
  {
   "cell_type": "markdown",
   "metadata": {},
   "source": [
    "## DISPLAY"
   ]
  },
  {
   "cell_type": "code",
   "execution_count": 187,
   "metadata": {},
   "outputs": [
    {
     "name": "stdout",
     "output_type": "stream",
     "text": [
      "            x_disp    y_disp      rot\n",
      "joint.no                             \n",
      "1         0.000000  0.000000  0.00000\n",
      "2         0.021301 -0.067322 -0.00255\n",
      "3         0.000000  0.000000  0.00000 \n",
      " \n",
      "              x_reac      y_reac       moment\n",
      "joint.no                                    \n",
      "1         30.372355  102.086263  1215.950198\n",
      "3        -30.372355   17.913237  -854.073693 \n",
      " \n",
      "              axial_force    shear   moment\n",
      "member joint                              \n",
      "1      1         104.892  18.4885  1215.95\n",
      "       2        -24.3937  21.7605  -1654.9\n",
      "2      2         30.3724  12.0868  154.897\n",
      "       3        -30.3724  17.9132 -854.074\n"
     ]
    }
   ],
   "source": [
    "def joint_displacements():\n",
    "    jt_displacements = np.zeros(ncjt*nj).reshape(ncjt*nj,1)\n",
    "\n",
    "    for i in range(ncjt*nj):\n",
    "        n= str_number[i]\n",
    "        if n <= ndof:\n",
    "            jt_displacements[i] = displacements[n-1]\n",
    "        else:\n",
    "            jt_displacements[i] = 0\n",
    "    jt_displacements.reshape(nj,-1)\n",
    "    joint_no = joint_data.joint.values\n",
    "    final = pd.DataFrame(jt_displacements.reshape(nj,-1),columns=['x_disp','y_disp','rot'],index =joint_no )\n",
    "    final.index.name = 'joint.no'\n",
    "    return (jt_displacements,final)\n",
    "\n",
    "\n",
    "def suport_reactions():\n",
    "    sup_reactions = np.zeros(ncjt*ns).reshape(ncjt*ns,1)\n",
    "    j = 0        \n",
    "    for i in suport_data.suport:\n",
    "        j+=ncjt\n",
    "        n1 = str_number[ncjt*i-3].item()\n",
    "        n2 = str_number[ncjt*i-2].item()\n",
    "        n3 = str_number[ncjt*i-1].item()\n",
    "        if n1> ndof:\n",
    "            sup_reactions[j-3] = reactions[n1-ndof-1]\n",
    "        else:\n",
    "            None\n",
    "        if n2 > ndof:\n",
    "            sup_reactions[j-2] = reactions[n2-ndof-1]\n",
    "        else:\n",
    "            None\n",
    "        if n3 > ndof:\n",
    "            sup_reactions[j-1] = reactions[n3-ndof-1]\n",
    "        else:\n",
    "            None\n",
    "    suport_joints = suport_data.suport.values\n",
    "    final = pd.DataFrame(sup_reactions.reshape(ns,-1),columns=['x_reac','y_reac','moment'], index=suport_joints)\n",
    "    final.index.name = 'joint.no'\n",
    "    return final\n",
    "\n",
    "\n",
    "def internal_forces():\n",
    "    index = pd.MultiIndex(levels=[[],[]],codes=[[],[]],names=[u'member', u'joint'])\n",
    "    int_forces = pd.DataFrame(index= index,columns=['axial_force','shear','moment'])\n",
    "    jd,_ = joint_displacements()\n",
    "    for member in member_data.member.values:\n",
    "        start = member_data[member_data.member == member].start.item()\n",
    "        end = member_data[member_data.member == member].end.item()\n",
    "        T = transformation_matrix(member)\n",
    "        k_local,k_global,_ = local_and_global_stiffness_matrix(member)\n",
    "        Qf = member_equivalent_joint_loadvector(member)\n",
    "        global_disp = np.array([jd[(ncjt*start)-3],jd[(ncjt*start)-2],jd[(ncjt*start)-1],\n",
    "                                jd[(ncjt*end)-3],jd[(ncjt*end)-2],jd[(ncjt*end)-1]])\n",
    "        local_disp =  np.dot(T,global_disp)\n",
    "        local_forces = np.dot(k_local,local_disp)+ Qf\n",
    "        local_forces = local_forces.reshape(-1,ncjt)\n",
    "        int_forces.loc[(member,start),:] = local_forces[0]\n",
    "        int_forces.loc[(member,end),:] = local_forces[1] \n",
    "    \n",
    "    return int_forces\n",
    "\n",
    "\n",
    "print(joint_displacements()[1],'\\n','\\n',suport_reactions(),'\\n','\\n',internal_forces())"
   ]
  },
  {
   "cell_type": "code",
   "execution_count": 2,
   "metadata": {},
   "outputs": [
    {
     "ename": "NameError",
     "evalue": "name 'np' is not defined",
     "output_type": "error",
     "traceback": [
      "\u001b[1;31m---------------------------------------------------------------------------\u001b[0m",
      "\u001b[1;31mNameError\u001b[0m                                 Traceback (most recent call last)",
      "\u001b[1;32m<ipython-input-2-f4ce0fc7c2e8>\u001b[0m in \u001b[0;36m<module>\u001b[1;34m\u001b[0m\n\u001b[1;32m----> 1\u001b[1;33m \u001b[0mK_str\u001b[0m \u001b[1;33m=\u001b[0m \u001b[0mnp\u001b[0m\u001b[1;33m.\u001b[0m\u001b[0mzeros\u001b[0m\u001b[1;33m(\u001b[0m\u001b[1;33m[\u001b[0m\u001b[0mncjt\u001b[0m\u001b[1;33m*\u001b[0m\u001b[0mnj\u001b[0m\u001b[1;33m,\u001b[0m\u001b[0mncjt\u001b[0m\u001b[1;33m*\u001b[0m\u001b[0mnj\u001b[0m\u001b[1;33m]\u001b[0m\u001b[1;33m)\u001b[0m\u001b[1;33m\u001b[0m\u001b[1;33m\u001b[0m\u001b[0m\n\u001b[0m\u001b[0;32m      2\u001b[0m \u001b[1;32mfor\u001b[0m \u001b[0mn\u001b[0m \u001b[1;32min\u001b[0m \u001b[0mjoint_data\u001b[0m\u001b[1;33m.\u001b[0m\u001b[0mjoint\u001b[0m\u001b[1;33m.\u001b[0m\u001b[0mvalues\u001b[0m\u001b[1;33m:\u001b[0m\u001b[1;33m\u001b[0m\u001b[1;33m\u001b[0m\u001b[0m\n\u001b[0;32m      3\u001b[0m     \u001b[0mmembers\u001b[0m \u001b[1;33m=\u001b[0m \u001b[0mmember_data\u001b[0m\u001b[1;33m[\u001b[0m\u001b[1;33m(\u001b[0m\u001b[0mmember_data\u001b[0m\u001b[1;33m.\u001b[0m\u001b[0mstart\u001b[0m \u001b[1;33m==\u001b[0m \u001b[0mn\u001b[0m\u001b[1;33m)\u001b[0m\u001b[1;33m|\u001b[0m\u001b[1;33m(\u001b[0m\u001b[0mmember_data\u001b[0m\u001b[1;33m.\u001b[0m\u001b[0mend\u001b[0m \u001b[1;33m==\u001b[0m \u001b[0mn\u001b[0m\u001b[1;33m)\u001b[0m\u001b[1;33m]\u001b[0m\u001b[1;33m\u001b[0m\u001b[1;33m\u001b[0m\u001b[0m\n\u001b[0;32m      4\u001b[0m \u001b[1;33m\u001b[0m\u001b[0m\n\u001b[0;32m      5\u001b[0m     \u001b[1;32mfor\u001b[0m \u001b[0mmem\u001b[0m \u001b[1;32min\u001b[0m \u001b[0mrange\u001b[0m\u001b[1;33m(\u001b[0m\u001b[0mlen\u001b[0m\u001b[1;33m(\u001b[0m\u001b[0mmembers\u001b[0m\u001b[1;33m)\u001b[0m\u001b[1;33m)\u001b[0m\u001b[1;33m:\u001b[0m\u001b[1;33m\u001b[0m\u001b[1;33m\u001b[0m\u001b[0m\n",
      "\u001b[1;31mNameError\u001b[0m: name 'np' is not defined"
     ]
    }
   ],
   "source": [
    "K_str = np.zeros([ncjt*nj,ncjt*nj])\n",
    "for n in joint_data.joint.values:\n",
    "    members = member_data[(member_data.start == n)|(member_data.end == n)]\n",
    "\n",
    "    for mem in range(len(members)):\n",
    "\n",
    "        start = members.iloc[mem].start.item()\n",
    "        end = members.iloc[mem].end.item()\n",
    "        memb_number = members.iloc[mem].member.item()\n",
    "\n",
    "        K = local_and_global_stiffness_matrix(memb_number)[1]\n",
    "        if n == start:\n",
    "            kii = K[0:3,0:3]\n",
    "            kij = K[0:3,3:6]\n",
    "            K_str[(n*ncjt)-3:n*ncjt,(start*ncjt)-3:start*ncjt] = K_str[(n*ncjt)-3:n*ncjt,(start*ncjt)-3:start*ncjt]+kii\n",
    "            K_str[(n*ncjt)-3:n*ncjt,(end*ncjt)-3:end*ncjt] = K_str[(n*ncjt)-3:n*ncjt,(end*ncjt)-3:end*ncjt]+kij\n",
    "        else:\n",
    "            kji = K[3:6,0:3]\n",
    "            kjj = K[3:6,3:6]\n",
    "            K_str[(n*ncjt)-3:n*ncjt,(start*ncjt)-3:start*ncjt] = K_str[(n*ncjt)-3:n*ncjt,(start*ncjt)-3:start*ncjt]+kji\n",
    "            K_str[(n*ncjt)-3:n*ncjt,(end*ncjt)-3:end*ncjt] = K_str[(n*ncjt)-3:n*ncjt,(end*ncjt)-3:end*ncjt]+kjj\n",
    "\n",
    "K_str"
   ]
  },
  {
   "cell_type": "code",
   "execution_count": null,
   "metadata": {},
   "outputs": [],
   "source": []
  },
  {
   "cell_type": "code",
   "execution_count": null,
   "metadata": {},
   "outputs": [],
   "source": []
  },
  {
   "cell_type": "code",
   "execution_count": 151,
   "metadata": {},
   "outputs": [
    {
     "data": {
      "text/plain": [
       "array([[ 6.18056944e-05],\n",
       "       [-6.00000899e+01],\n",
       "       [ 7.48501771e+02]])"
      ]
     },
     "execution_count": 151,
     "metadata": {},
     "output_type": "execute_result"
    }
   ],
   "source": [
    "joint_load_vector() - structure_equivalent_joint_loadvector()"
   ]
  },
  {
   "cell_type": "code",
   "execution_count": null,
   "metadata": {},
   "outputs": [],
   "source": []
  }
 ],
 "metadata": {
  "kernelspec": {
   "display_name": "Python 3",
   "language": "python",
   "name": "python3"
  },
  "language_info": {
   "codemirror_mode": {
    "name": "ipython",
    "version": 3
   },
   "file_extension": ".py",
   "mimetype": "text/x-python",
   "name": "python",
   "nbconvert_exporter": "python",
   "pygments_lexer": "ipython3",
   "version": "3.8.5"
  }
 },
 "nbformat": 4,
 "nbformat_minor": 4
}
