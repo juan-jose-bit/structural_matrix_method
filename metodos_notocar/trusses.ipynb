{
 "cells": [
  {
   "cell_type": "code",
   "execution_count": 1,
   "metadata": {},
   "outputs": [],
   "source": [
    "import pandas as pd\n",
    "import numpy as np"
   ]
  },
  {
   "cell_type": "markdown",
   "metadata": {},
   "source": [
    "## INPUT DATA "
   ]
  },
  {
   "cell_type": "code",
   "execution_count": 2,
   "metadata": {},
   "outputs": [
    {
     "data": {
      "text/html": [
       "<div>\n",
       "<style scoped>\n",
       "    .dataframe tbody tr th:only-of-type {\n",
       "        vertical-align: middle;\n",
       "    }\n",
       "\n",
       "    .dataframe tbody tr th {\n",
       "        vertical-align: top;\n",
       "    }\n",
       "\n",
       "    .dataframe thead th {\n",
       "        text-align: right;\n",
       "    }\n",
       "</style>\n",
       "<table border=\"1\" class=\"dataframe\">\n",
       "  <thead>\n",
       "    <tr style=\"text-align: right;\">\n",
       "      <th></th>\n",
       "      <th>suport</th>\n",
       "      <th>x</th>\n",
       "      <th>y</th>\n",
       "    </tr>\n",
       "  </thead>\n",
       "  <tbody>\n",
       "    <tr>\n",
       "      <th>0</th>\n",
       "      <td>1</td>\n",
       "      <td>1</td>\n",
       "      <td>1</td>\n",
       "    </tr>\n",
       "    <tr>\n",
       "      <th>1</th>\n",
       "      <td>3</td>\n",
       "      <td>0</td>\n",
       "      <td>1</td>\n",
       "    </tr>\n",
       "    <tr>\n",
       "      <th>2</th>\n",
       "      <td>4</td>\n",
       "      <td>0</td>\n",
       "      <td>1</td>\n",
       "    </tr>\n",
       "  </tbody>\n",
       "</table>\n",
       "</div>"
      ],
      "text/plain": [
       "   suport  x  y\n",
       "0       1  1  1\n",
       "1       3  0  1\n",
       "2       4  0  1"
      ]
     },
     "execution_count": 2,
     "metadata": {},
     "output_type": "execute_result"
    }
   ],
   "source": [
    "joint_data=pd.DataFrame(np.array([[1,0,0],[2,288,0],[3,576,0],[4,864,0],[5,288,216],[6,576,216]]),columns=['joint','x','y'])\n",
    "suport_data = pd.DataFrame(np.array([[1,1,1],[3,0,1],[4,0,1]]),columns = ['suport','x','y'])\n",
    "materialp_data = pd.DataFrame(np.array([[1,29000],[2,1000]]),columns=['type','E'])\n",
    "crossec_data = pd.DataFrame(np.array([[1,8],[2,12],[3,16]]),columns=['type','area'])\n",
    "member_data = pd.DataFrame(np.array([[1,1,2,1,1],[2,2,3,1,1],[3,3,4,2,3],[4,5,6,1,1],[5,2,5,1,1],[6,3,6,1,1],\n",
    "                                     [7,1,5,1,2],[8,2,6,1,2],[9,3,5,1,2],[10,4,6,2,3]]),columns=['member','start','end','material_type','area_type'])\n",
    "jointload_data = pd.DataFrame(np.array([[2,0,-75],[5,25,0],[6,0,-60]]),columns = ['joint','x_load','y_load'])\n",
    "suport_data"
   ]
  },
  {
   "cell_type": "markdown",
   "metadata": {},
   "source": [
    "## SETTING PARAMETERS"
   ]
  },
  {
   "cell_type": "code",
   "execution_count": 3,
   "metadata": {},
   "outputs": [],
   "source": [
    "ncjt = 2\n",
    "nj = len(joint_data)\n",
    "ns = len(suport_data)\n",
    "rc = (suport_data[['x','y']] == 1).sum().sum()\n",
    "ndof = (ncjt*nj)-rc"
   ]
  },
  {
   "cell_type": "markdown",
   "metadata": {},
   "source": [
    "## ESTRUCTURE COORDINATE NUMBERS"
   ]
  },
  {
   "cell_type": "code",
   "execution_count": 4,
   "metadata": {},
   "outputs": [],
   "source": [
    "def structure_numbers():\n",
    "    k = ndof\n",
    "    j=0\n",
    "    icount = 0\n",
    "    str_number = np.zeros(ncjt*nj).reshape(ncjt*nj,1)\n",
    "    for i in range(1,nj+1):\n",
    "        if any(suport_data.suport==i):\n",
    "            row = suport_data[suport_data.suport == i]\n",
    "            if row.x.values == 1:\n",
    "                k+=1\n",
    "                str_number[(ncjt*i)-2]=k\n",
    "            else:\n",
    "                j+=1\n",
    "                str_number[(ncjt*i)-2]=j\n",
    "            if row.y.values == 1:\n",
    "                k+=1\n",
    "                str_number[(ncjt*i)-1]=k\n",
    "            else:\n",
    "                j+=1\n",
    "                str_number[(ncjt*i)-1]=j\n",
    "        else:\n",
    "            j+=1\n",
    "            str_number[(ncjt*i)-2]=j\n",
    "            j+=1\n",
    "            str_number[(ncjt*i)-1]=j\n",
    "    return str_number.astype('int64')\n",
    "\n",
    "str_number = structure_numbers()"
   ]
  },
  {
   "cell_type": "markdown",
   "metadata": {},
   "source": [
    "## MEMBER PARAMETERS, TRANSFORMATION MATRIX, LOCAL AND GLOBAL STIFFNESS MATRICES"
   ]
  },
  {
   "cell_type": "code",
   "execution_count": 5,
   "metadata": {},
   "outputs": [],
   "source": [
    "def member_parameters(member_number):\n",
    "    info = member_data[member_data.member==member_number]\n",
    "    start = info.start.values.item()\n",
    "    end = info.end.values.item()\n",
    "    E = materialp_data[materialp_data.type==info.material_type.values.item()].E.values.item()\n",
    "    area = crossec_data[crossec_data.type==info.area_type.values.item()].area.values.item()\n",
    "    x_b = joint_data[joint_data.joint==start].x.item() \n",
    "    x_e = joint_data[joint_data.joint==end].x.item() \n",
    "    y_b = joint_data[joint_data.joint==start].y.item() \n",
    "    y_e = joint_data[joint_data.joint==end].y.item() \n",
    "    length = np.sqrt((x_e-x_b)**2+(y_e-y_b)**2)\n",
    "    costheta = (x_e-x_b)/length\n",
    "    sintheta = (y_e-y_b)/length\n",
    "    membercode_number=np.array([str_number[ncjt*start-2].item(),str_number[ncjt*start-1].item()\n",
    "                       ,str_number[ncjt*end-2].item(),str_number[ncjt*end-1].item()]).reshape(2*ncjt,1)\n",
    "    return (E,area,length,costheta,sintheta,membercode_number)\n",
    "\n",
    "def transformation_matrix(member_number):\n",
    "    E,area,length,costheta,sintheta,_ = member_parameters(member_number)\n",
    "    T = np.array([costheta,sintheta,0,0,-sintheta,costheta,0,0\n",
    "                  ,0,0,costheta,sintheta,0,0,-sintheta,costheta]).reshape(4,4)\n",
    "    return T\n",
    "    \n",
    "def local_and_global_stiffness_matrix(member_number):\n",
    "    E,area,length,costheta,sintheta,membercode_number = member_parameters(member_number)\n",
    "    stiffness = E*area/length\n",
    "    T = transformation_matrix(member_number)\n",
    "    k_local = stiffness*np.array([1,0,-1,0,0,0,0,0,-1,0,1,0,0,0,0,0]).reshape(4,4)\n",
    "    k_global = np.dot(np.dot(T.T,k_local),T)\n",
    "    return (k_local,k_global,membercode_number)"
   ]
  },
  {
   "cell_type": "markdown",
   "metadata": {},
   "source": [
    "## ESTRUCTURE STIFFNESS MATRIX"
   ]
  },
  {
   "cell_type": "code",
   "execution_count": 6,
   "metadata": {},
   "outputs": [
    {
     "data": {
      "text/plain": [
       "array([[ 2229.77777778,   464.        ,  -805.55555556,     0.        ,\n",
       "            0.        ,     0.        ,  -618.66666667,  -464.        ],\n",
       "       [  464.        ,  1422.07407407,     0.        ,     0.        ,\n",
       "            0.        , -1074.07407407,  -464.        ,  -348.        ],\n",
       "       [ -805.55555556,     0.        ,  1479.77777778,   -55.55555556,\n",
       "         -618.66666667,   464.        ,     0.        ,     0.        ],\n",
       "       [    0.        ,     0.        ,   -55.55555556,    84.        ,\n",
       "            0.        ,     0.        ,   -28.44444444,    21.33333333],\n",
       "       [    0.        ,     0.        ,  -618.66666667,     0.        ,\n",
       "         2042.88888889,     0.        ,  -805.55555556,     0.        ],\n",
       "       [    0.        , -1074.07407407,   464.        ,     0.        ,\n",
       "            0.        ,  1770.07407407,     0.        ,     0.        ],\n",
       "       [ -618.66666667,  -464.        ,     0.        ,   -28.44444444,\n",
       "         -805.55555556,     0.        ,  1452.66666667,   442.66666667],\n",
       "       [ -464.        ,  -348.        ,     0.        ,    21.33333333,\n",
       "            0.        ,     0.        ,   442.66666667,  1438.07407407]])"
      ]
     },
     "execution_count": 6,
     "metadata": {},
     "output_type": "execute_result"
    }
   ],
   "source": [
    "def structure_stiffness_matrix():\n",
    "    members = len(member_data)\n",
    "    S = np.zeros(ndof*ndof).reshape(ndof,ndof)\n",
    "    for member in range (1,members+1):\n",
    "        k_local,k_global,membercode_number = local_and_global_stiffness_matrix(member)\n",
    "\n",
    "        for i in range(1,(2*ncjt)+1):\n",
    "            n1 = membercode_number[i-1]\n",
    "            if n1 <= ndof:\n",
    "                for j in range(1,(2*ncjt)+1):\n",
    "                    n2 = membercode_number[j-1]\n",
    "                    if n2 <= ndof:\n",
    "                        S[n1-1,n2-1] = S[n1-1,n2-1] + k_global[i-1,j-1]\n",
    "                    else:\n",
    "                        continue\n",
    "            else:\n",
    "                continue\n",
    "    return S\n",
    "structure_stiffness_matrix()"
   ]
  },
  {
   "cell_type": "markdown",
   "metadata": {},
   "source": [
    "## JOINT LOAD VECTOR"
   ]
  },
  {
   "cell_type": "code",
   "execution_count": 7,
   "metadata": {},
   "outputs": [
    {
     "data": {
      "text/plain": [
       "array([[  0.],\n",
       "       [-75.],\n",
       "       [  0.],\n",
       "       [  0.],\n",
       "       [ 25.],\n",
       "       [  0.],\n",
       "       [  0.],\n",
       "       [-60.]])"
      ]
     },
     "execution_count": 7,
     "metadata": {},
     "output_type": "execute_result"
    }
   ],
   "source": [
    "def joint_load_vector():\n",
    "    p = np.zeros(ndof).reshape(ndof,1)\n",
    "    rows = len(jointload_data)\n",
    "    for i in range(rows):\n",
    "        loaded_joint = jointload_data.iloc[i].joint.item()\n",
    "        Xstr_number = str_number[(ncjt*loaded_joint)-2].item()\n",
    "        if Xstr_number <= ndof:\n",
    "            p[Xstr_number-1] = jointload_data.iloc[i].x_load.item()\n",
    "        else:\n",
    "            None\n",
    "\n",
    "        Ystr_number = str_number[(ncjt*loaded_joint)-1].item()\n",
    "        if Ystr_number <= ndof:\n",
    "            p[Ystr_number-1] = jointload_data.iloc[i].y_load.item()\n",
    "        else:\n",
    "            None\n",
    "    return p\n",
    "\n",
    "joint_load_vector()"
   ]
  },
  {
   "cell_type": "markdown",
   "metadata": {},
   "source": [
    "## JOINT DISPLACEMENTS"
   ]
  },
  {
   "cell_type": "code",
   "execution_count": 8,
   "metadata": {},
   "outputs": [
    {
     "data": {
      "text/plain": [
       "array([[ 0.07713591],\n",
       "       [-0.20739177],\n",
       "       [ 0.1194437 ],\n",
       "       [ 0.10638523],\n",
       "       [ 0.05783835],\n",
       "       [-0.15715501],\n",
       "       [ 0.02391081],\n",
       "       [-0.07595947]])"
      ]
     },
     "execution_count": 8,
     "metadata": {},
     "output_type": "execute_result"
    }
   ],
   "source": [
    "displacements = np.linalg.inv(structure_stiffness_matrix()).dot(joint_load_vector())\n",
    "displacements"
   ]
  },
  {
   "cell_type": "markdown",
   "metadata": {},
   "source": [
    "## REACTIONS"
   ]
  },
  {
   "cell_type": "code",
   "execution_count": 9,
   "metadata": {},
   "outputs": [
    {
     "data": {
      "text/plain": [
       "array([[-25.        ],\n",
       "       [ 27.85294854],\n",
       "       [107.69115438],\n",
       "       [ -0.54410292]])"
      ]
     },
     "execution_count": 9,
     "metadata": {},
     "output_type": "execute_result"
    }
   ],
   "source": [
    "n_members = len(member_data)\n",
    "reactions = np.zeros(rc).reshape(rc,1)\n",
    "for member in range(1,n_members+1):\n",
    "    _,_,_,_,_,membercode_number = member_parameters(member)\n",
    "    T = transformation_matrix(member)\n",
    "    k_local,_,_ =local_and_global_stiffness_matrix(member) \n",
    "    membglobal_disp = np.zeros(2*ncjt).reshape(2*ncjt,1)\n",
    "    for i in range(2*ncjt):\n",
    "        n = membercode_number[i].item() \n",
    "        if n <= ndof:\n",
    "            membglobal_disp[i]=displacements[membercode_number[i].item()-1]\n",
    "        else:\n",
    "            None\n",
    "    memblocal_disp = T.dot(membglobal_disp)\n",
    "    memblocal_forces = k_local.dot(memblocal_disp)\n",
    "    membglobal_forces = T.T.dot(memblocal_forces)\n",
    "    for i in range(2*ncjt):\n",
    "        n = membercode_number[i].item()\n",
    "        if n > ndof:\n",
    "            reactions[n-ndof-1]=reactions[n-ndof-1]+membglobal_forces[i]\n",
    "        else:\n",
    "            None\n",
    "reactions"
   ]
  },
  {
   "cell_type": "markdown",
   "metadata": {},
   "source": [
    "## DISPLAY"
   ]
  },
  {
   "cell_type": "code",
   "execution_count": 12,
   "metadata": {},
   "outputs": [
    {
     "name": "stdout",
     "output_type": "stream",
     "text": [
      "            x_disp    y_disp\n",
      "joint.no                    \n",
      "1         0.000000  0.000000\n",
      "2         0.077136 -0.207392\n",
      "3         0.119444  0.000000\n",
      "4         0.106385  0.000000\n",
      "5         0.057838 -0.157155\n",
      "6         0.023911 -0.075959 \n",
      " \n",
      "           x_reac      y_reac\n",
      "joint.no                    \n",
      "1          -25.0   27.852949\n",
      "3            0.0  107.691154\n",
      "4            0.0   -0.544103 \n",
      " \n",
      "            axial_force\n",
      "member 1    -62.137265\n",
      "member 2    -34.081274\n",
      "member 3      0.725471\n",
      "member 4     27.330520\n",
      "member 5    -53.958007\n",
      "member 6     81.586096\n",
      "member 7     46.421581\n",
      "member 8    -35.069988\n",
      "member 9     43.508431\n",
      "member 10    -0.906838\n"
     ]
    }
   ],
   "source": [
    "def joint_displacements():\n",
    "    jt_displacements = np.zeros(ncjt*nj).reshape(ncjt*nj,1)\n",
    "\n",
    "    for i in range(ncjt*nj):\n",
    "        n= str_number[i]\n",
    "        if n <= ndof:\n",
    "            jt_displacements[i] = displacements[n-1]\n",
    "        else:\n",
    "            jt_displacements[i] = 0\n",
    "    jt_displacements.reshape(nj,-1)\n",
    "    joint_no = joint_data.joint.values\n",
    "    final = pd.DataFrame(jt_displacements.reshape(nj,-1),columns=['x_disp','y_disp'],index= joint_no)\n",
    "    final.index.name = 'joint.no'\n",
    "    return final\n",
    "\n",
    "\n",
    "def suport_reactions():\n",
    "    sup_reactions = np.zeros(ncjt*ns).reshape(ncjt*ns,1)\n",
    "    j = 0        \n",
    "    for i in suport_data.suport:\n",
    "        j+=ncjt\n",
    "        n1 = str_number[ncjt*i-2].item()\n",
    "        n2 = str_number[ncjt*i-1].item()\n",
    "        if n1> ndof:\n",
    "            sup_reactions[j-2] = reactions[n1-ndof-1]\n",
    "        else:\n",
    "            None\n",
    "        if n2 > ndof:\n",
    "            sup_reactions[j-1] = reactions[n2-ndof-1]\n",
    "        else:\n",
    "            None\n",
    "    suport_joints = suport_data.suport.values\n",
    "    final = pd.DataFrame(sup_reactions.reshape(ns,-1),columns=['x_reac','y_reac'], index=suport_joints)\n",
    "    final.index.name = 'joint.no'\n",
    "    return final\n",
    "\n",
    "\n",
    "def internal_forces():\n",
    "    int_forces = pd.DataFrame(columns=['axial_force'])\n",
    "    for member in member_data.member.values:\n",
    "        start = member_data[member_data.member == member].start.item()\n",
    "        end = member_data[member_data.member == member].end.item()\n",
    "        T = transformation_matrix(member)\n",
    "        k_local,k_global,_ = local_and_global_stiffness_matrix(member)\n",
    "        jd = joint_displacements().values.reshape(-1,1) \n",
    "        global_disp = np.array([jd[(ncjt*start)-2],jd[(ncjt*start)-1],jd[(ncjt*end)-2],jd[(ncjt*end)-1]])\n",
    "        local_disp =  np.dot(T,global_disp)\n",
    "        local_forces = np.dot(k_local,local_disp)\n",
    "        int_forces.loc['member {}'.format(member)] = local_forces[0]\n",
    "    \n",
    "    return int_forces\n",
    "\n",
    "\n",
    "print(joint_displacements(),'\\n','\\n',suport_reactions(),'\\n','\\n',internal_forces())"
   ]
  },
  {
   "cell_type": "code",
   "execution_count": null,
   "metadata": {},
   "outputs": [],
   "source": []
  },
  {
   "cell_type": "code",
   "execution_count": null,
   "metadata": {},
   "outputs": [],
   "source": []
  },
  {
   "cell_type": "code",
   "execution_count": null,
   "metadata": {},
   "outputs": [],
   "source": []
  }
 ],
 "metadata": {
  "kernelspec": {
   "display_name": "Python 3",
   "language": "python",
   "name": "python3"
  },
  "language_info": {
   "codemirror_mode": {
    "name": "ipython",
    "version": 3
   },
   "file_extension": ".py",
   "mimetype": "text/x-python",
   "name": "python",
   "nbconvert_exporter": "python",
   "pygments_lexer": "ipython3",
   "version": "3.8.3"
  }
 },
 "nbformat": 4,
 "nbformat_minor": 4
}
