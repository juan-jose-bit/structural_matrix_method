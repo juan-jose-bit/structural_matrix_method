{
 "cells": [
  {
   "cell_type": "code",
   "execution_count": 1,
   "metadata": {},
   "outputs": [],
   "source": [
    "import pandas as pd\n",
    "import numpy as np"
   ]
  },
  {
   "cell_type": "markdown",
   "metadata": {},
   "source": [
    "## INPUT DATA "
   ]
  },
  {
   "cell_type": "code",
   "execution_count": 154,
   "metadata": {},
   "outputs": [
    {
     "name": "stderr",
     "output_type": "stream",
     "text": [
      "<ipython-input-154-5b6dd4cc75c7>:8: VisibleDeprecationWarning: Creating an ndarray from ragged nested sequences (which is a list-or-tuple of lists-or-tuples-or ndarrays with different lengths or shapes) is deprecated. If you meant to do this, you must specify 'dtype=object' when creating the ndarray\n",
      "  memberload_data = pd.DataFrame(np.array([[1,'C_dist',194,(0,5)],[2,'C_dist',194,(5,0)],\n"
     ]
    },
    {
     "name": "stdout",
     "output_type": "stream",
     "text": [
      "joint_data \n",
      "    joint   x\n",
      "0      1   0\n",
      "1      2  15\n",
      "2      3  30\n",
      "\n",
      "\n",
      "suport_data \n",
      "    suport  y  r\n",
      "0       1  1  0\n",
      "1       3  1  0\n",
      "\n",
      "\n",
      "materialp_data \n",
      "    type          E\n",
      "0     1  200000000\n",
      "\n",
      "\n",
      "crossec_data \n",
      "    type  inertia\n",
      "0   1.0    0.163\n",
      "\n",
      "\n",
      "member_data \n",
      "    member  start  end  material_type  inertia_type\n",
      "0       1      1    2              1             1\n",
      "1       2      2    3              1             1\n",
      "\n",
      "\n",
      "jointload_data \n",
      "    joint  y_load  m_load\n",
      "0      1       0       0\n",
      "\n",
      "\n",
      "member_loadata \n",
      "   member      loadtype    w position\n",
      "0      1        C_dist  194   (0, 5)\n",
      "1      2        C_dist  194   (5, 0)\n",
      "2      1  concentrated  294     12.5\n",
      "3      1  concentrated  294   14.167\n",
      "4      2  concentrated  294   0.8335\n",
      "5      2  concentrated  294      2.5\n",
      "\n",
      "\n"
     ]
    }
   ],
   "source": [
    "types_of_loadings = ['concentrated','moment','C_dist','L_dist']\n",
    "joint_data = pd.DataFrame(np.array([[1,0],[2,15],[3,30]]),columns=['joint','x'])\n",
    "suport_data = pd.DataFrame(np.array([[1,1,0],[3,1,0]]),columns = ['suport','y','r'])\n",
    "materialp_data = pd.DataFrame(np.array([[1,200*(10**6)]]),columns=['type','E'])\n",
    "crossec_data = pd.DataFrame(np.array([[1,0.163]]),columns=['type','inertia'])\n",
    "member_data = pd.DataFrame(np.array([[1,1,2,1,1],[2,2,3,1,1]]),columns=['member','start','end','material_type','inertia_type'])\n",
    "jointload_data = pd.DataFrame(np.array([[1,0,0]]),columns = ['joint','y_load','m_load'])\n",
    "memberload_data = pd.DataFrame(np.array([[1,'C_dist',194,(0,5)],[2,'C_dist',194,(5,0)]]),columns = ['member','loadtype','w','position'])\n",
    "names = zip(['joint_data','suport_data','materialp_data','crossec_data','member_data','jointload_data','member_loadata'],\n",
    "             [joint_data,suport_data,materialp_data,crossec_data,member_data,jointload_data,memberload_data])\n",
    "\n",
    "for i,a in names:\n",
    "    print(i,'\\n',a)\n",
    "    print('\\n')"
   ]
  },
  {
   "cell_type": "markdown",
   "metadata": {},
   "source": [
    "## SETTING PARAMETERS"
   ]
  },
  {
   "cell_type": "code",
   "execution_count": 155,
   "metadata": {},
   "outputs": [],
   "source": [
    "ncjt = 2\n",
    "nj = len(joint_data)\n",
    "ns = len(suport_data)\n",
    "rc = (suport_data[['y','r']] == 1).sum().sum()\n",
    "ndof = (ncjt*nj)-rc"
   ]
  },
  {
   "cell_type": "markdown",
   "metadata": {},
   "source": [
    "## ESTRUCTURE COORDINATE NUMBERS"
   ]
  },
  {
   "cell_type": "code",
   "execution_count": 156,
   "metadata": {},
   "outputs": [
    {
     "data": {
      "text/plain": [
       "array([[5],\n",
       "       [1],\n",
       "       [2],\n",
       "       [3],\n",
       "       [6],\n",
       "       [4]], dtype=int64)"
      ]
     },
     "execution_count": 156,
     "metadata": {},
     "output_type": "execute_result"
    }
   ],
   "source": [
    "def structure_numbers():\n",
    "    k = ndof\n",
    "    j=0\n",
    "    str_number = np.zeros(nj*2).reshape(nj*2,1)\n",
    "    for i in range(1,nj+1):\n",
    "        if any(suport_data.suport==i):\n",
    "            row = suport_data[suport_data.suport == i]\n",
    "            if row.y.values == 1:\n",
    "                k+=1\n",
    "                str_number[(ncjt*i)-2]=k\n",
    "            else:\n",
    "                j+=1\n",
    "                str_number[(ncjt*i)-2]=j\n",
    "            if row.r.values == 1:\n",
    "                k+=1\n",
    "                str_number[(ncjt*i)-1]=k\n",
    "            else:\n",
    "                j+=1\n",
    "                str_number[(ncjt*i)-1]=j\n",
    "        else:\n",
    "            j+=1\n",
    "            str_number[(ncjt*i)-2]=j\n",
    "            j+=1\n",
    "            str_number[(ncjt*i)-1]=j\n",
    "    return str_number.astype('int64')\n",
    "\n",
    "str_number = structure_numbers()\n",
    "str_number"
   ]
  },
  {
   "cell_type": "markdown",
   "metadata": {},
   "source": [
    "## MEMBER PARAMETERS AND STIFFNESS MATRIX"
   ]
  },
  {
   "cell_type": "code",
   "execution_count": 157,
   "metadata": {},
   "outputs": [],
   "source": [
    "def member_parameters(member_number):\n",
    "    info = member_data[member_data.member==member_number]\n",
    "    start = info.start.values.item()\n",
    "    end = info.end.values.item()\n",
    "    E = materialp_data[materialp_data.type==info.material_type.values.item()].E.values.item()\n",
    "    inertia = crossec_data[crossec_data.type==info.inertia_type.values.item()].inertia.values.item()\n",
    "    x_b = joint_data[joint_data.joint == start].x.item()\n",
    "    x_e = joint_data[joint_data.joint == end].x.item()\n",
    "    l = x_e-x_b\n",
    "    membercode_number=np.array([str_number[(ncjt*start)-2].item(),str_number[(ncjt*start)-1].item()\n",
    "                       ,str_number[(ncjt*end)-2].item(),str_number[(ncjt*end)-1].item()]).reshape(2*ncjt,1)\n",
    "    return (E,inertia,l,membercode_number)\n",
    "\n",
    "    \n",
    "def stiffness_matrix(member_number):\n",
    "    E,inertia,l,membercode_number = member_parameters(member_number)\n",
    "    stiffness = E*inertia/l**3\n",
    "    k = stiffness*np.array([12,6*l,-12,6*l,6*l,4*l**2,-6*l,2*l**2,\n",
    "                                  -12,-6*l,12,-6*l,6*l,2*l**2,-6*l,4*l**2]).reshape(4,4)\n",
    "    return (k,membercode_number)"
   ]
  },
  {
   "cell_type": "markdown",
   "metadata": {},
   "source": [
    "## ESTRUCTURE STIFFNESS MATRIX"
   ]
  },
  {
   "cell_type": "code",
   "execution_count": 158,
   "metadata": {},
   "outputs": [
    {
     "data": {
      "text/plain": [
       "array([[ 8693333.33333333,  -869333.33333333,  4346666.66666667,\n",
       "               0.        ],\n",
       "       [ -869333.33333333,   231822.22222222,        0.        ,\n",
       "          869333.33333333],\n",
       "       [ 4346666.66666667,        0.        , 17386666.66666667,\n",
       "         4346666.66666667],\n",
       "       [       0.        ,   869333.33333333,  4346666.66666667,\n",
       "         8693333.33333333]])"
      ]
     },
     "execution_count": 158,
     "metadata": {},
     "output_type": "execute_result"
    }
   ],
   "source": [
    "def structure_stiffness_matrix():\n",
    "    members = len(member_data)\n",
    "    S = np.zeros(ndof*ndof).reshape(ndof,ndof)\n",
    "    for member in range (1,members+1):\n",
    "        k,membercode_number = stiffness_matrix(member)\n",
    "\n",
    "        for i in range(1,(2*ncjt)+1):\n",
    "            n1 = membercode_number[i-1]\n",
    "            if n1 <= ndof:\n",
    "                for j in range(1,(2*ncjt)+1):\n",
    "                    n2 = membercode_number[j-1]\n",
    "                    if n2 <= ndof:\n",
    "                        S[n1-1,n2-1] = S[n1-1,n2-1] + k[i-1,j-1]\n",
    "                    else:\n",
    "                        continue\n",
    "            else:\n",
    "                continue\n",
    "    return S\n",
    "structure_stiffness_matrix()"
   ]
  },
  {
   "cell_type": "markdown",
   "metadata": {},
   "source": [
    "## JOINT LOAD VECTOR"
   ]
  },
  {
   "cell_type": "code",
   "execution_count": 159,
   "metadata": {},
   "outputs": [
    {
     "data": {
      "text/plain": [
       "array([[0.],\n",
       "       [0.],\n",
       "       [0.],\n",
       "       [0.]])"
      ]
     },
     "execution_count": 159,
     "metadata": {},
     "output_type": "execute_result"
    }
   ],
   "source": [
    "def joint_load_vector():\n",
    "    p = np.zeros(ndof).reshape(ndof,1)\n",
    "    rows = len(jointload_data)\n",
    "    for i in range(rows):\n",
    "        loaded_joint = jointload_data.iloc[i].joint.item()\n",
    "        Ystr_number = str_number[(2*loaded_joint)-2].item()\n",
    "        Rstr_number = str_number[(2*loaded_joint)-1].item()\n",
    "        if Ystr_number <= ndof:\n",
    "            p[Ystr_number-1] = jointload_data.iloc[i].y_load.item()\n",
    "        else:\n",
    "            None\n",
    "\n",
    "        \n",
    "        if Rstr_number <= ndof:\n",
    "            p[Rstr_number-1] = jointload_data.iloc[i].m_load.item()\n",
    "        else:\n",
    "            None\n",
    "    return p\n",
    "\n",
    "joint_load_vector()"
   ]
  },
  {
   "cell_type": "markdown",
   "metadata": {},
   "source": [
    "## MEMBER AND STRUCTURE EQUIVALENT JOINT LOAD VECTOR"
   ]
  },
  {
   "cell_type": "code",
   "execution_count": 160,
   "metadata": {},
   "outputs": [
    {
     "data": {
      "text/plain": [
       "array([[ 3.34826163e+03],\n",
       "       [ 2.27683230e+03],\n",
       "       [ 1.15697439e-01],\n",
       "       [-3.34827660e+03]])"
      ]
     },
     "execution_count": 160,
     "metadata": {},
     "output_type": "execute_result"
    }
   ],
   "source": [
    "def member_equivalent_joint_loadvector(member):\n",
    "    info = memberload_data[memberload_data.member == member]\n",
    "    Qf= np.zeros(2*ncjt).reshape(2*ncjt,1)\n",
    "    for i in range(len(info)):\n",
    "        lp = info.iloc[i].position\n",
    "        load_type = info.iloc[i].loadtype\n",
    "        w = info.iloc[i].w\n",
    "        _,_,l,membercode_number = member_parameters(member)\n",
    "\n",
    "        if load_type == types_of_loadings[0]:\n",
    "            v1 = ((w/l**3)*(l-lp)**2)*((3*lp)+(l-lp))\n",
    "            m1 = (w/l**2)*(lp*(l-lp)**2)\n",
    "            v2 = ((w/l**3)*lp**2)*(lp+(3*(l-lp)))\n",
    "            m2 = -1*(w/l**2)*((lp**2)*(l-lp))\n",
    "            Qf = Qf + np.array([[v1],[m1],[v2],[m2]])\n",
    "\n",
    "        elif load_type == types_of_loadings[1]:\n",
    "            v1 = (-1*6*w/l**3)*(lp*(l-lp))\n",
    "            m1 = ((w/l**2)*(l-lp))*((l-lp)-(2*lp))\n",
    "            v2 = (6*w/l**3)*(lp*(l-lp))\n",
    "            m2 = ((w/l**2)*lp)*(lp-(2*(l-lp)))\n",
    "            Qf = Qf + np.array([[v1],[m1],[v2],[m2]])\n",
    "\n",
    "        elif load_type == types_of_loadings[2]:\n",
    "            v1 = (w*l/2)*(1-((lp[0]/l**4)*((2*l**3)-((2*lp[0]**2)*l)+lp[0]**3))-(((lp[1]**3)/l**4)*((2*l)-lp[1])))\n",
    "            m1 = ((w*l**2)/12)*(1-(((lp[0]**2)/(l**4))*(6*l**2-8*lp[0]*l+3*lp[0]**2))-(((lp[1]**3)/(l**4))*(4*l-3*lp[1])))                                                                                       \n",
    "            v2 = (w*l/2)*(1-(((lp[0]**3)/(l**4))*(2*l-lp[0]))-((lp[1]/l**4)*(2*l**3-((2*lp[1]**2)*l)+lp[1]**3)))\n",
    "            m2 = (-1*(w*l**2)/12)*(1-(((lp[1]**2)/(l**4))*(6*l**2-8*lp[1]*l+3*lp[1]**2))-(((lp[0]**3)/(l**4))*(4*l-3*lp[0])))\n",
    "            Qf = Qf + np.array([[v1],[m1],[v2],[m2]])\n",
    "\n",
    "        elif load_type == types_of_loadings[3]:\n",
    "            a = (7*l+8*lp[0])-(((lp[1]*(3*l+2*lp[0]))/(l-lp[0]))*(1+((lp[1])/(l-lp[0]))+((lp[1]**2)/(l-lp[0])**2)))+((2*lp[1]**4)/(l-lp[0])**3) \n",
    "            b = ((3*l+2*lp[0])*(1+((lp[1])/(l-lp[0]))+((lp[1]**2)/(l-lp[0])**2)))-(((lp[1]**3)/(l-lp[0])**2)*(2+((15*l-8*lp[1])/(l-lp[0]))))\n",
    "            c = (3*l+12*lp[0])-(((lp[1]*(2*l+3*lp[0]))/(l-lp[0]))*(1+((lp[1])/(l-lp[0]))+((lp[1]**2)/(l-lp[0])**2)))+((3*lp[1]**4)/(l-lp[0])**3)\n",
    "            d = ((2*l+3*lp[0])*(1+((lp[1])/(l-lp[0]))+((lp[1]**2)/(l-lp[0])**2)))-(((3*lp[1]**3)/(l-lp[0])**2)*(1+((5*l-4*lp[1])/(l-lp[0]))))\n",
    "            v1 = a*((w[0]*(l-lp[0])**3)/(20*l**3))+b*((w[1]*(l-lp[0])**3)/(20*l**3))\n",
    "            m1 = c*((w[0]*(l-lp[0])**3)/(60*l**2))+d*((w[1]*(l-lp[0])**3)/(60*l**2))\n",
    "            v2 = (((w[0]+w[1])/2)*(l-lp[0]-lp[1]))-v1\n",
    "            m2 = (((l-lp[0]-lp[1])/6)*((w[0]*(-2*l+2*lp[0]-lp[1]))-(w[1]*(l-lp[0]+2*lp[1]))))+(v1*l)-m1\n",
    "            Qf = Qf + np.array([[v1],[m1],[v2],[m2]])\n",
    "        \n",
    "        else:\n",
    "            print('bad inputs in: '.format(load_type))\n",
    "            \n",
    "        \n",
    "    return Qf\n",
    "\n",
    "\n",
    "def structure_equivalent_joint_loadvector():\n",
    "    pf = np.zeros(ndof).reshape(ndof,1)\n",
    "    for m in set(memberload_data.member.values):\n",
    "        _,_,l,membercode_number = member_parameters(m)\n",
    "        Qf= member_equivalent_joint_loadvector(m)\n",
    "        for i,a in zip(membercode_number.reshape(-1,),list(range(len(Qf)))):\n",
    "            if i <= ndof:\n",
    "                pf[i-1] = pf[i-1] + Qf[a].item()\n",
    "            else:\n",
    "                None\n",
    "    return pf\n",
    "\n",
    "structure_equivalent_joint_loadvector()"
   ]
  },
  {
   "cell_type": "markdown",
   "metadata": {},
   "source": [
    "## JOINT DISPLACEMENTS"
   ]
  },
  {
   "cell_type": "code",
   "execution_count": 161,
   "metadata": {},
   "outputs": [
    {
     "data": {
      "text/plain": [
       "array([[-5.46919238e-03],\n",
       "       [-5.08404431e-02],\n",
       "       [-9.44653907e-09],\n",
       "       [ 5.46920355e-03]])"
      ]
     },
     "execution_count": 161,
     "metadata": {},
     "output_type": "execute_result"
    }
   ],
   "source": [
    "displacements = np.linalg.inv(structure_stiffness_matrix()).dot(joint_load_vector() - structure_equivalent_joint_loadvector())\n",
    "displacements"
   ]
  },
  {
   "cell_type": "markdown",
   "metadata": {},
   "source": [
    "## REACTIONS"
   ]
  },
  {
   "cell_type": "code",
   "execution_count": 162,
   "metadata": {},
   "outputs": [
    {
     "data": {
      "text/plain": [
       "array([[2527.9951],\n",
       "       [2528.0049]])"
      ]
     },
     "execution_count": 162,
     "metadata": {},
     "output_type": "execute_result"
    }
   ],
   "source": [
    "members = len(member_data)\n",
    "reactions = np.zeros(rc).reshape(rc,1)\n",
    "for member in range(1,members+1):\n",
    "    _,_,_,membercode_number = member_parameters(member)\n",
    "#     T = transformation_matrix(member)\n",
    "    k,_ = stiffness_matrix(member) \n",
    "    memb_disp = np.zeros(2*ncjt).reshape(2*ncjt,1)\n",
    "    for i in range(2*ncjt):\n",
    "        n = membercode_number[i].item() \n",
    "        if n <= ndof:\n",
    "            memb_disp[i]=displacements[n-1]\n",
    "        else:\n",
    "            None\n",
    "    memb_forces = k.dot(memb_disp) + member_equivalent_joint_loadvector(member)\n",
    "    for i in range(2*ncjt):\n",
    "        n = membercode_number[i].item()\n",
    "        if n > ndof:\n",
    "            reactions[n-ndof-1]=reactions[n-ndof-1]+memb_forces[i]\n",
    "        else:\n",
    "            None\n",
    "reactions"
   ]
  },
  {
   "cell_type": "code",
   "execution_count": null,
   "metadata": {},
   "outputs": [],
   "source": []
  },
  {
   "cell_type": "code",
   "execution_count": 163,
   "metadata": {},
   "outputs": [
    {
     "name": "stdout",
     "output_type": "stream",
     "text": [
      "           y_disp           rot\n",
      "joint.no                       \n",
      "1         0.00000 -5.469192e-03\n",
      "2        -0.05084 -9.446539e-09\n",
      "3         0.00000  5.469204e-03 \n",
      " \n",
      "              y_reac  moment\n",
      "joint.no                   \n",
      "1         2527.9951     0.0\n",
      "3         2528.0049     0.0 \n",
      " \n",
      "                shear       moment\n",
      "member joint                     \n",
      "1      1        2528 -1.31877e-11\n",
      "       2      0.0049        17540\n",
      "2      2     -0.0049       -17540\n",
      "       3        2528 -1.50067e-11\n"
     ]
    }
   ],
   "source": [
    "def joint_displacements():\n",
    "    jt_displacements = np.zeros(ncjt*nj).reshape(ncjt*nj,1)\n",
    "\n",
    "    for i in range(ncjt*nj):\n",
    "        n= str_number[i]\n",
    "        if n <= ndof:\n",
    "            jt_displacements[i] = displacements[n-1]\n",
    "        else:\n",
    "            jt_displacements[i] = 0\n",
    "    jt_displacements.reshape(nj,-1)\n",
    "    joint_no = joint_data.joint.values\n",
    "    final = pd.DataFrame(jt_displacements.reshape(nj,-1),columns=['y_disp','rot'],index =joint_no )\n",
    "    final.index.name = 'joint.no'\n",
    "    return (jt_displacements,final)\n",
    "\n",
    "\n",
    "def suport_reactions():\n",
    "    sup_reactions = np.zeros(ncjt*ns).reshape(ncjt*ns,1)\n",
    "    j = 0        \n",
    "    for i in suport_data.suport:\n",
    "        j+=ncjt\n",
    "        n1 = str_number[ncjt*i-2].item()\n",
    "        n2 = str_number[ncjt*i-1].item()\n",
    "        if n1> ndof:\n",
    "            sup_reactions[j-2] = reactions[n1-ndof-1]\n",
    "        else:\n",
    "            None\n",
    "        if n2 > ndof:\n",
    "            sup_reactions[j-1] = reactions[n2-ndof-1]\n",
    "        else:\n",
    "            None\n",
    "    suport_joints = suport_data.suport.values\n",
    "    final = pd.DataFrame(sup_reactions.reshape(ns,-1),columns=['y_reac','moment'], index=suport_joints)\n",
    "    final.index.name = 'joint.no'\n",
    "    return final\n",
    "\n",
    "\n",
    "def internal_forces():\n",
    "    index = pd.MultiIndex(levels=[[],[]],codes=[[],[]],names=[u'member', u'joint'])\n",
    "    int_forces = pd.DataFrame(index=index , columns=['shear','moment'])\n",
    "    jd,_ = joint_displacements()\n",
    "    for member in member_data.member.values:\n",
    "        start = member_data[member_data.member == member].start.item()\n",
    "        end = member_data[member_data.member == member].end.item()\n",
    "        k,_ = stiffness_matrix(member)\n",
    "        Qf = member_equivalent_joint_loadvector(member)\n",
    "        disp = np.array([jd[(ncjt*start)-2],jd[(ncjt*start)-1],\n",
    "                                jd[(ncjt*end)-2],jd[(ncjt*end)-1]])\n",
    "        forces = np.dot(k,disp)+Qf\n",
    "        forces = forces.reshape(-1,ncjt)\n",
    "        int_forces.loc[(member,start),:] = forces[0]\n",
    "        int_forces.loc[(member,end),:] = forces[1] \n",
    "    \n",
    "    return int_forces\n",
    "\n",
    "\n",
    "print(joint_displacements()[1],'\\n','\\n',suport_reactions(),'\\n','\\n',internal_forces())"
   ]
  },
  {
   "cell_type": "code",
   "execution_count": 133,
   "metadata": {},
   "outputs": [
    {
     "data": {
      "text/html": [
       "<div>\n",
       "<style scoped>\n",
       "    .dataframe tbody tr th:only-of-type {\n",
       "        vertical-align: middle;\n",
       "    }\n",
       "\n",
       "    .dataframe tbody tr th {\n",
       "        vertical-align: top;\n",
       "    }\n",
       "\n",
       "    .dataframe thead th {\n",
       "        text-align: right;\n",
       "    }\n",
       "</style>\n",
       "<table border=\"1\" class=\"dataframe\">\n",
       "  <thead>\n",
       "    <tr style=\"text-align: right;\">\n",
       "      <th></th>\n",
       "      <th></th>\n",
       "      <th>shear</th>\n",
       "      <th>moment</th>\n",
       "    </tr>\n",
       "    <tr>\n",
       "      <th>member</th>\n",
       "      <th>joint</th>\n",
       "      <th></th>\n",
       "      <th></th>\n",
       "    </tr>\n",
       "  </thead>\n",
       "  <tbody>\n",
       "    <tr>\n",
       "      <th rowspan=\"2\" valign=\"top\">1</th>\n",
       "      <th>1</th>\n",
       "      <td>2348</td>\n",
       "      <td>-8.18545e-12</td>\n",
       "    </tr>\n",
       "    <tr>\n",
       "      <th>2</th>\n",
       "      <td>0.00465</td>\n",
       "      <td>16390</td>\n",
       "    </tr>\n",
       "    <tr>\n",
       "      <th rowspan=\"2\" valign=\"top\">2</th>\n",
       "      <th>2</th>\n",
       "      <td>-0.00465</td>\n",
       "      <td>-16390</td>\n",
       "    </tr>\n",
       "    <tr>\n",
       "      <th>3</th>\n",
       "      <td>2348</td>\n",
       "      <td>1.81899e-12</td>\n",
       "    </tr>\n",
       "  </tbody>\n",
       "</table>\n",
       "</div>"
      ],
      "text/plain": [
       "                shear       moment\n",
       "member joint                      \n",
       "1      1         2348 -8.18545e-12\n",
       "       2      0.00465        16390\n",
       "2      2     -0.00465       -16390\n",
       "       3         2348  1.81899e-12"
      ]
     },
     "execution_count": 133,
     "metadata": {},
     "output_type": "execute_result"
    }
   ],
   "source": [
    "internal_forces()"
   ]
  },
  {
   "cell_type": "code",
   "execution_count": null,
   "metadata": {},
   "outputs": [],
   "source": []
  },
  {
   "cell_type": "code",
   "execution_count": null,
   "metadata": {},
   "outputs": [],
   "source": []
  },
  {
   "cell_type": "code",
   "execution_count": null,
   "metadata": {},
   "outputs": [],
   "source": []
  },
  {
   "cell_type": "code",
   "execution_count": null,
   "metadata": {},
   "outputs": [],
   "source": []
  }
 ],
 "metadata": {
  "kernelspec": {
   "display_name": "Python 3",
   "language": "python",
   "name": "python3"
  },
  "language_info": {
   "codemirror_mode": {
    "name": "ipython",
    "version": 3
   },
   "file_extension": ".py",
   "mimetype": "text/x-python",
   "name": "python",
   "nbconvert_exporter": "python",
   "pygments_lexer": "ipython3",
   "version": "3.8.5"
  }
 },
 "nbformat": 4,
 "nbformat_minor": 4
}
