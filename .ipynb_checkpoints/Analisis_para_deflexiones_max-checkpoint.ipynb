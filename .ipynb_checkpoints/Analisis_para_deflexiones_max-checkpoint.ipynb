{
 "cells": [
  {
   "cell_type": "code",
   "execution_count": 1,
   "metadata": {},
   "outputs": [],
   "source": [
    "import numpy as np \n",
    "import pandas as pd"
   ]
  },
  {
   "cell_type": "markdown",
   "metadata": {},
   "source": [
    "## INPUT DATA"
   ]
  },
  {
   "cell_type": "code",
   "execution_count": 2,
   "metadata": {},
   "outputs": [
    {
     "name": "stdout",
     "output_type": "stream",
     "text": [
      "joint_data \n",
      "    joint     x     y\n",
      "0    1.0   0.0  0.00\n",
      "1    2.0   6.0  0.00\n",
      "2    3.0  12.0  0.00\n",
      "3    4.0   0.0  2.95\n",
      "4    5.0   6.0  2.95\n",
      "5    6.0  12.0  2.95\n",
      "6    7.0   0.0  5.90\n",
      "7    8.0   6.0  5.90\n",
      "8    9.0  12.0  5.90\n",
      "\n",
      "\n",
      "suport_data \n",
      "    suport  x  y  r\n",
      "0       1  1  1  0\n",
      "1       2  1  1  0\n",
      "2       3  1  1  0\n",
      "3       7  1  1  0\n",
      "4       8  1  1  0\n",
      "5       9  1  1  0\n",
      "\n",
      "\n",
      "materialp_data \n",
      "    type         E\n",
      "0     1  21361000\n",
      "\n",
      "\n",
      "crossec_data \n",
      "    type  area  inertia\n",
      "0   1.0  0.18   0.0054\n",
      "1   2.0  0.12   0.0016\n",
      "\n",
      "\n",
      "member_data \n",
      "    member  start  end  material_type  cross_type\n",
      "0       1      1    4              1           1\n",
      "1       2      2    5              1           1\n",
      "2       3      3    6              1           1\n",
      "3       4      4    7              1           1\n",
      "4       5      5    8              1           1\n",
      "5       6      6    9              1           1\n",
      "6       7      4    5              1           2\n",
      "7       8      5    6              1           2\n",
      "\n",
      "\n",
      "jointload_data \n",
      "    joint  x_load  y_load  m_load\n",
      "0    6.0     0.0  -98.28   -63.8\n",
      "\n",
      "\n",
      "memberload_data \n",
      "   member loadtype     w position\n",
      "0      7   C_dist  51.5   (0, 0)\n",
      "1      8   C_dist  51.5   (0, 0)\n",
      "\n",
      "\n"
     ]
    },
    {
     "name": "stderr",
     "output_type": "stream",
     "text": [
      "<ipython-input-2-dde1e8bff78f>:8: VisibleDeprecationWarning: Creating an ndarray from ragged nested sequences (which is a list-or-tuple of lists-or-tuples-or ndarrays with different lengths or shapes) is deprecated. If you meant to do this, you must specify 'dtype=object' when creating the ndarray\n",
      "  memberload_data = pd.DataFrame(np.array([[7,'C_dist',51.5,(0,0)],[8,'C_dist',51.5,(0,0)]]),columns = ['member','loadtype','w','position'],dtype='object')\n"
     ]
    }
   ],
   "source": [
    "types_of_loadings = ['y_conc','moment','C_dist','L_dist','x_conc','D_axial']\n",
    "joint_data = pd.DataFrame(np.array([[1,0,0],[2,6,0],[3,12,0],[4,0,2.95],[5,6,2.95],[6,12,2.95],[7,0,5.9],[8,6,5.9],[9,12,5.9]]),columns=['joint','x','y'])\n",
    "suport_data = pd.DataFrame(np.array([[1,1,1,0],[2,1,1,0],[3,1,1,0],[7,1,1,0],[8,1,1,0],[9,1,1,0]]),columns = ['suport','x','y','r'])\n",
    "materialp_data = pd.DataFrame(np.array([[1,21361000]]),columns=['type','E'])\n",
    "crossec_data = pd.DataFrame(np.array([[1,0.18,0.0054],[2,0.12,0.0016]]),columns=['type','area','inertia'])\n",
    "member_data = pd.DataFrame(np.array([[1,1,4,1,1],[2,2,5,1,1],[3,3,6,1,1],[4,4,7,1,1],[5,5,8,1,1],[6,6,9,1,1],[7,4,5,1,2],[8,5,6,1,2]]),columns=['member','start','end','material_type','cross_type'])\n",
    "jointload_data = pd.DataFrame(np.array([[6,0,-98.28,-63.8]]),columns = ['joint','x_load','y_load','m_load'])\n",
    "memberload_data = pd.DataFrame(np.array([[7,'C_dist',51.5,(0,0)],[8,'C_dist',51.5,(0,0)]]),columns = ['member','loadtype','w','position'],dtype='object')\n",
    "\n",
    "names = zip(['joint_data','suport_data','materialp_data','crossec_data','member_data','jointload_data','memberload_data'],\n",
    "             [joint_data,suport_data,materialp_data,crossec_data,member_data,jointload_data,memberload_data])\n",
    "\n",
    "for i,a in names:\n",
    "    print(i,'\\n',a)\n",
    "    print('\\n')"
   ]
  },
  {
   "cell_type": "markdown",
   "metadata": {},
   "source": [
    "## SETTING PARAMETERS"
   ]
  },
  {
   "cell_type": "code",
   "execution_count": 3,
   "metadata": {},
   "outputs": [],
   "source": [
    "ncjt = 3\n",
    "nj = len(joint_data)\n",
    "ns = len(suport_data)\n",
    "rc = (suport_data[['x','y','r']] == 1).sum().sum()\n",
    "ndof = (ncjt*nj)-rc"
   ]
  },
  {
   "cell_type": "code",
   "execution_count": 4,
   "metadata": {},
   "outputs": [
    {
     "data": {
      "text/plain": [
       "array([[16],\n",
       "       [17],\n",
       "       [ 1],\n",
       "       [18],\n",
       "       [19],\n",
       "       [ 2],\n",
       "       [20],\n",
       "       [21],\n",
       "       [ 3],\n",
       "       [ 4],\n",
       "       [ 5],\n",
       "       [ 6],\n",
       "       [ 7],\n",
       "       [ 8],\n",
       "       [ 9],\n",
       "       [10],\n",
       "       [11],\n",
       "       [12],\n",
       "       [22],\n",
       "       [23],\n",
       "       [13],\n",
       "       [24],\n",
       "       [25],\n",
       "       [14],\n",
       "       [26],\n",
       "       [27],\n",
       "       [15]], dtype=int64)"
      ]
     },
     "execution_count": 4,
     "metadata": {},
     "output_type": "execute_result"
    }
   ],
   "source": [
    "def structure_numbers():\n",
    "    k = ndof\n",
    "    j=0\n",
    "    str_number = np.zeros(ncjt*nj).reshape(ncjt*nj,1)\n",
    "    for i in range(1,nj+1):\n",
    "        if any(suport_data.suport==i):\n",
    "            row = suport_data[suport_data.suport == i]\n",
    "            \n",
    "            if row.x.values == 1:\n",
    "                k+=1\n",
    "                str_number[(ncjt*i)-3]=k\n",
    "            else:\n",
    "                j+=1\n",
    "                str_number[(ncjt*i)-3]=j\n",
    "                \n",
    "            if row.y.values == 1:\n",
    "                k+=1\n",
    "                str_number[(ncjt*i)-2]=k\n",
    "            else:\n",
    "                j+=1\n",
    "                str_number[(ncjt*i)-2]=j\n",
    "                \n",
    "            if row.r.values == 1:\n",
    "                k+=1\n",
    "                str_number[(ncjt*i)-1]=k\n",
    "            else:\n",
    "                j+=1\n",
    "                str_number[(ncjt*i)-1]=j\n",
    "        else:\n",
    "            j+=1\n",
    "            str_number[(ncjt*i)-3]=j\n",
    "            j+=1\n",
    "            str_number[(ncjt*i)-2]=j\n",
    "            j+=1\n",
    "            str_number[(ncjt*i)-1]=j\n",
    "            \n",
    "    return str_number.astype('int64')\n",
    "\n",
    "str_number = structure_numbers()\n",
    "str_number"
   ]
  },
  {
   "cell_type": "markdown",
   "metadata": {},
   "source": [
    "## MEMBER PARAMETERS, TRANSFORMATION MATRIX, LOCAL AND GLOBAL STIFFNESS MATRICES"
   ]
  },
  {
   "cell_type": "code",
   "execution_count": 5,
   "metadata": {},
   "outputs": [],
   "source": [
    "def member_parameters(member_number):\n",
    "    info = member_data[member_data.member==member_number]\n",
    "    start = info.start.item()\n",
    "    end = info.end.item()\n",
    "    E = materialp_data[materialp_data.type==info.material_type.item()].E.item()\n",
    "    A = crossec_data[crossec_data.type==info.cross_type.item()].area.item()\n",
    "    I = crossec_data[crossec_data.type==info.cross_type.item()].inertia.item()\n",
    "    x_b = joint_data[joint_data.joint==start].x.item() \n",
    "    x_e = joint_data[joint_data.joint==end].x.item() \n",
    "    y_b = joint_data[joint_data.joint==start].y.item() \n",
    "    y_e = joint_data[joint_data.joint==end].y.item() \n",
    "    l = np.sqrt((x_e-x_b)**2+(y_e-y_b)**2)\n",
    "    costheta = (x_e-x_b)/l\n",
    "    sintheta = (y_e-y_b)/l\n",
    "    membercode_number=np.array([str_number[ncjt*start-3].item(),str_number[ncjt*start-2].item(),str_number[ncjt*start-1].item(),\n",
    "                                str_number[ncjt*end-3].item(),str_number[ncjt*end-2].item(),str_number[ncjt*end-1].item()]).reshape(2*ncjt,1)\n",
    "    \n",
    "    return (E,A,I,l,costheta,sintheta,membercode_number)\n",
    "\n",
    "def transformation_matrix(member_number):\n",
    "    _,_,_,_,costheta,sintheta,_ = member_parameters(member_number)\n",
    "    T = np.array([costheta,sintheta,0,0,0,0,\n",
    "                  -sintheta,costheta,0,0,0,0,\n",
    "                  0,0,1,0,0,0,\n",
    "                  0,0,0,costheta,sintheta,0,\n",
    "                  0,0,0,-sintheta,costheta,0,\n",
    "                  0,0,0,0,0,1]).reshape(6,6)\n",
    "    return T\n",
    "\n",
    "def local_and_global_stiffness_matrix(member_number):\n",
    "    E,A,I,l,costheta,sintheta,membercode_number = member_parameters(member_number)\n",
    "    stiffness = E*I/l**3\n",
    "    T = transformation_matrix(member_number)\n",
    "    a1 =(A*l**2)/I\n",
    "    a2 = 4*l**2\n",
    "    a3=2*l**2\n",
    "    k_local = stiffness*np.array([a1,0,0,-a1,0,0,\n",
    "                                  0,12,6*l,0,-12,6*l,\n",
    "                                  0,6*l,a2,0,-6*l,a3,\n",
    "                                  -a1,0,0,a1,0,0,\n",
    "                                  0,-12,-6*l,0,12,-6*l,\n",
    "                                  0,6*l,a3,0,-6*l,a2]).reshape(6,6)\n",
    "    k_global = np.dot(np.dot(T.T,k_local),T)\n",
    "    return (k_local,k_global,membercode_number)\n",
    "\n",
    "members = member_data['member'].values\n",
    "\n",
    "# for i in members:\n",
    "#     print('--------------member no.{}--------------------'.format(i),'\\n')\n",
    "#     print('member_parameters','\\n',member_parameters(i),'\\n','\\n')\n",
    "#     print('transformation','\\n',transformation_matrix(i),'\\n','\\n')\n",
    "#     print('local_and_global','\\n',local_and_global_stiffness_matrix(i),'\\n','\\n','\\n')"
   ]
  },
  {
   "cell_type": "markdown",
   "metadata": {},
   "source": [
    "## STRUCTURE STIFFNESS MATRIX"
   ]
  },
  {
   "cell_type": "code",
   "execution_count": 6,
   "metadata": {},
   "outputs": [],
   "source": [
    "def structure_stiffness_matrix():\n",
    "    members = len(member_data)\n",
    "    S = np.zeros(ndof*ndof).reshape(ndof,ndof)\n",
    "    for member in range (1,members+1):\n",
    "        k_local,k_global,membercode_number = local_and_global_stiffness_matrix(member)\n",
    "\n",
    "        for i in range(1,(2*ncjt)+1):\n",
    "            n1 = membercode_number[i-1]\n",
    "            if n1 <= ndof:\n",
    "                for j in range(1,(2*ncjt)+1):\n",
    "                    n2 = membercode_number[j-1]\n",
    "                    if n2 <= ndof:\n",
    "                        S[n1-1,n2-1] = S[n1-1,n2-1] + k_global[i-1,j-1]\n",
    "                    else:\n",
    "                        continue\n",
    "            else:\n",
    "                continue\n",
    "    return S"
   ]
  },
  {
   "cell_type": "markdown",
   "metadata": {},
   "source": [
    "## JOINT LOAD VECTOR"
   ]
  },
  {
   "cell_type": "code",
   "execution_count": 7,
   "metadata": {},
   "outputs": [
    {
     "data": {
      "text/plain": [
       "array([[  0.  ],\n",
       "       [  0.  ],\n",
       "       [  0.  ],\n",
       "       [  0.  ],\n",
       "       [  0.  ],\n",
       "       [  0.  ],\n",
       "       [  0.  ],\n",
       "       [  0.  ],\n",
       "       [  0.  ],\n",
       "       [  0.  ],\n",
       "       [-98.28],\n",
       "       [-63.8 ],\n",
       "       [  0.  ],\n",
       "       [  0.  ],\n",
       "       [  0.  ]])"
      ]
     },
     "execution_count": 7,
     "metadata": {},
     "output_type": "execute_result"
    }
   ],
   "source": [
    "def joint_load_vector():\n",
    "    p = np.zeros(ndof).reshape(ndof,1)\n",
    "    rows = len(jointload_data)\n",
    "    for i in range(rows):\n",
    "        loaded_joint = int(jointload_data.iloc[i].joint.item())\n",
    "        Xstr_number = str_number[(ncjt*loaded_joint)-3].item()\n",
    "        Ystr_number = str_number[(ncjt*loaded_joint)-2].item()\n",
    "        Rstr_number = str_number[(ncjt*loaded_joint)-1].item()\n",
    "        if Xstr_number <= ndof:\n",
    "            p[Xstr_number-1] = jointload_data.iloc[i].x_load.item()\n",
    "        else:\n",
    "            None\n",
    "\n",
    "        if Ystr_number <= ndof:\n",
    "            p[Ystr_number-1] = jointload_data.iloc[i].y_load.item()\n",
    "        else:\n",
    "            None\n",
    "        if Rstr_number <= ndof:\n",
    "            p[Rstr_number-1] = jointload_data.iloc[i].m_load.item()\n",
    "    return p\n",
    "\n",
    "joint_load_vector()"
   ]
  },
  {
   "cell_type": "markdown",
   "metadata": {},
   "source": [
    "## MEMBER AND STRUCTURE EQUIVALENT JOINT LOAD VECTOR"
   ]
  },
  {
   "cell_type": "code",
   "execution_count": 8,
   "metadata": {},
   "outputs": [],
   "source": [
    "def member_equivalent_joint_loadvector(member):\n",
    "    info = memberload_data[memberload_data.member == member]\n",
    "    Qf= np.zeros(2*ncjt).reshape(2*ncjt,1)\n",
    "    for i in range(len(info)):\n",
    "        lp = info.iloc[i].position\n",
    "        load_type = info.iloc[i].loadtype\n",
    "        w = info.iloc[i].w\n",
    "        _,_,_,l,_,_,membercode_number = member_parameters(member)\n",
    "\n",
    "        if load_type == types_of_loadings[0]:\n",
    "            v1 = ((w/l**3)*(l-lp)**2)*((3*lp)+(l-lp))\n",
    "            m1 = (w/l**2)*(lp*(l-lp)**2)\n",
    "            v2 = ((w/l**3)*lp**2)*(lp+(3*(l-lp)))\n",
    "            m2 = -1*(w/l**2)*((lp**2)*(l-lp))\n",
    "            Qf = Qf + np.array([[0],[v1],[m1],[0],[v2],[m2]])\n",
    "\n",
    "        elif load_type == types_of_loadings[1]:\n",
    "            v1 = (-1*6*w/l**3)*(lp*(l-lp))\n",
    "            m1 = ((w/l**2)*(l-lp))*((l-lp)-(2*lp))\n",
    "            v2 = (6*w/l**3)*(lp*(l-lp))\n",
    "            m2 = ((w/l**2)*lp)*(lp-(2*(l-lp)))\n",
    "            Qf = Qf + np.array([[0],[v1],[m1],[0],[v2],[m2]])\n",
    "\n",
    "        elif load_type == types_of_loadings[2]:\n",
    "            v1 = (w*l/2)*(1-((lp[0]/l**4)*((2*l**3)-((2*lp[0]**2)*l)+lp[0]**3))-(((lp[1]**3)/l**4)*((2*l)-lp[1])))\n",
    "            m1 = ((w*l**2)/12)*(1-(((lp[0]**2)/(l**4))*(6*l**2-8*lp[0]*l+3*lp[0]**2))-(((lp[1]**3)/(l**4))*(4*l-3*lp[1])))                                                                                       \n",
    "            v2 = (w*l/2)*(1-(((lp[0]**3)/(l**4))*(2*l-lp[0]))-((lp[1]/l**4)*(2*l**3-((2*lp[1]**2)*l)+lp[1]**3)))\n",
    "            m2 = (-1*(w*l**2)/12)*(1-(((lp[1]**2)/(l**4))*(6*l**2-8*lp[1]*l+3*lp[1]**2))-(((lp[0]**3)/(l**4))*(4*l-3*lp[0])))\n",
    "            Qf = Qf + np.array([[0],[v1],[m1],[0],[v2],[m2]])\n",
    "\n",
    "        elif load_type == types_of_loadings[3]:\n",
    "            a = (7*l+8*lp[0])-(((lp[1]*(3*l+2*lp[0]))/(l-lp[0]))*(1+((lp[1])/(l-lp[0]))+((lp[1]**2)/(l-lp[0])**2)))+((2*lp[1]**4)/(l-lp[0])**3) \n",
    "            b = ((3*l+2*lp[0])*(1+((lp[1])/(l-lp[0]))+((lp[1]**2)/(l-lp[0])**2)))-(((lp[1]**3)/(l-lp[0])**2)*(2+((15*l-8*lp[1])/(l-lp[0]))))\n",
    "            c = (3*l+12*lp[0])-(((lp[1]*(2*l+3*lp[0]))/(l-lp[0]))*(1+((lp[1])/(l-lp[0]))+((lp[1]**2)/(l-lp[0])**2)))+((3*lp[1]**4)/(l-lp[0])**3)\n",
    "            d = ((2*l+3*lp[0])*(1+((lp[1])/(l-lp[0]))+((lp[1]**2)/(l-lp[0])**2)))-(((3*lp[1]**3)/(l-lp[0])**2)*(1+((5*l-4*lp[1])/(l-lp[0]))))\n",
    "            v1 = a*((w[0]*(l-lp[0])**3)/(20*l**3))+b*((w[1]*(l-lp[0])**3)/(20*l**3))\n",
    "            m1 = c*((w[0]*(l-lp[0])**3)/(60*l**2))+d*((w[1]*(l-lp[0])**3)/(60*l**2))\n",
    "            v2 = (((w[0]+w[1])/2)*(l-lp[0]-lp[1]))-v1\n",
    "            m2 = (((l-lp[0]-lp[1])/6)*((w[0]*(-2*l+2*lp[0]-lp[1]))-(w[1]*(l-lp[0]+2*lp[1]))))+(v1*l)-m1\n",
    "            Qf = Qf + np.array([[0],[v1],[m1],[0],[v2],[m2]])\n",
    "        \n",
    "        elif load_type == types_of_loadings[4]:\n",
    "            A1 = (w*(l-lp))/l \n",
    "            A2 = (w*lp)/l\n",
    "            Qf = Qf + np.array([[A1],[0],[0],[A2],[0],[0]])\n",
    "            \n",
    "        elif load_type == types_of_loadings[5]:\n",
    "            A1 = (w/(2*l))*(l-lp[0]-lp[1])*(l-lp[0]+lp[1])\n",
    "            A2 = (w/(2*l))*(l-lp[0]-lp[1])*(l+lp[0]-lp[1])\n",
    "            Qf = Qf + np.array([[A1],[0],[0],[A2],[0],[0]])\n",
    "            \n",
    "        else:\n",
    "            print('bad inputs in: '.format(load_type))\n",
    "            \n",
    "        \n",
    "    return Qf\n",
    "\n",
    "\n",
    "def structure_equivalent_joint_loadvector():\n",
    "    pf = np.zeros(ndof).reshape(ndof,1)\n",
    "    for m in set(memberload_data.member.values):\n",
    "        _,_,_,_,_,_,membercode_number = member_parameters(m)\n",
    "        T = transformation_matrix(m)\n",
    "        Qf = member_equivalent_joint_loadvector(m)\n",
    "        Ff= np.dot(T.T,Qf)\n",
    "        for i,a in zip(membercode_number.reshape(-1,),list(range(len(Qf)))):\n",
    "            if i <= ndof:\n",
    "                pf[i-1] = pf[i-1] + Ff[a].item()\n",
    "            else:\n",
    "                None\n",
    "    return pf\n"
   ]
  },
  {
   "cell_type": "markdown",
   "metadata": {},
   "source": [
    "## JOINT DISPLACEMENTS"
   ]
  },
  {
   "cell_type": "code",
   "execution_count": 9,
   "metadata": {},
   "outputs": [
    {
     "data": {
      "text/plain": [
       "array([[ 3.01022937e-04],\n",
       "       [-4.68532005e-06],\n",
       "       [-1.76251223e-04],\n",
       "       [ 6.07526827e-20],\n",
       "       [-5.80192882e-05],\n",
       "       [-6.02045874e-04],\n",
       "       [ 7.26491731e-20],\n",
       "       [-1.20560242e-04],\n",
       "       [ 9.37064010e-06],\n",
       "       [ 8.55996775e-20],\n",
       "       [-9.61977113e-05],\n",
       "       [ 3.52502446e-04],\n",
       "       [ 3.01022937e-04],\n",
       "       [-4.68532005e-06],\n",
       "       [-1.76251223e-04]])"
      ]
     },
     "execution_count": 9,
     "metadata": {},
     "output_type": "execute_result"
    }
   ],
   "source": [
    "displacements = np.linalg.inv(structure_stiffness_matrix()).dot(joint_load_vector() - structure_equivalent_joint_loadvector())\n",
    "displacements"
   ]
  },
  {
   "cell_type": "markdown",
   "metadata": {},
   "source": [
    "## REACTIONS"
   ]
  },
  {
   "cell_type": "code",
   "execution_count": 10,
   "metadata": {},
   "outputs": [
    {
     "data": {
      "text/plain": [
       "array([[ 23.93988981],\n",
       "       [ 75.6213569 ],\n",
       "       [ -0.37261628],\n",
       "       [157.13617665],\n",
       "       [-14.01698787],\n",
       "       [125.38246645],\n",
       "       [-23.93988981],\n",
       "       [ 75.6213569 ],\n",
       "       [  0.37261628],\n",
       "       [157.13617665],\n",
       "       [ 14.01698787],\n",
       "       [125.38246645]])"
      ]
     },
     "execution_count": 10,
     "metadata": {},
     "output_type": "execute_result"
    }
   ],
   "source": [
    "members = len(member_data)\n",
    "reactions = np.zeros(rc).reshape(rc,1)\n",
    "for member in range(1,members+1):\n",
    "    _,_,_,_,_,_,membercode_number = member_parameters(member)\n",
    "    T = transformation_matrix(member)\n",
    "    k_local,_,_ =local_and_global_stiffness_matrix(member) \n",
    "    membglobal_disp = np.zeros(2*ncjt).reshape(2*ncjt,1)\n",
    "    for i in range(2*ncjt):\n",
    "        n = membercode_number[i].item() \n",
    "        if n <= ndof:\n",
    "            membglobal_disp[i]=displacements[membercode_number[i].item()-1]\n",
    "        else:\n",
    "            None\n",
    "    memblocal_disp = T.dot(membglobal_disp)\n",
    "    memblocal_forces = k_local.dot(memblocal_disp)\n",
    "    membglobal_forces = T.T.dot(memblocal_forces)\n",
    "    for i in range(2*ncjt):\n",
    "        n = membercode_number[i].item()\n",
    "        if n > ndof:\n",
    "            reactions[n-ndof-1]=reactions[n-ndof-1]+membglobal_forces[i]\n",
    "        else:\n",
    "            None\n",
    "reactions"
   ]
  },
  {
   "cell_type": "markdown",
   "metadata": {},
   "source": [
    "## DISPLAY"
   ]
  },
  {
   "cell_type": "code",
   "execution_count": 11,
   "metadata": {},
   "outputs": [
    {
     "name": "stdout",
     "output_type": "stream",
     "text": [
      "                x_disp    y_disp       rot\n",
      "joint.no                                  \n",
      "1.0       0.000000e+00  0.000000  0.000301\n",
      "2.0       0.000000e+00  0.000000 -0.000005\n",
      "3.0       0.000000e+00  0.000000 -0.000176\n",
      "4.0       6.075268e-20 -0.000058 -0.000602\n",
      "5.0       7.264917e-20 -0.000121  0.000009\n",
      "6.0       8.559968e-20 -0.000096  0.000353\n",
      "7.0       0.000000e+00  0.000000  0.000301\n",
      "8.0       0.000000e+00  0.000000 -0.000005\n",
      "9.0       0.000000e+00  0.000000 -0.000176 \n",
      " \n",
      "              x_reac      y_reac  moment\n",
      "joint.no                               \n",
      "1         23.939890   75.621357     0.0\n",
      "2         -0.372616  157.136177     0.0\n",
      "3        -14.016988  125.382466     0.0\n",
      "7        -23.939890   75.621357     0.0\n",
      "8          0.372616  157.136177     0.0\n",
      "9         14.016988  125.382466     0.0 \n",
      " \n",
      "               axial_force     shear       moment\n",
      "member joint                                    \n",
      "1      1          75.6214  -23.9399  7.10543e-15\n",
      "       4         -75.6214   23.9399     -70.6227\n",
      "2      2          157.136  0.372616 -2.22045e-16\n",
      "       5         -157.136 -0.372616      1.09922\n",
      "3      3          125.382    14.017  3.55271e-15\n",
      "       6         -125.382   -14.017      41.3501\n",
      "4      4         -75.6214  -23.9399     -70.6227\n",
      "       7          75.6214   23.9399 -7.10543e-15\n",
      "5      5         -157.136  0.372616      1.09922\n",
      "       8          157.136 -0.372616 -1.22125e-15\n",
      "6      6         -125.382    14.017      41.3501\n",
      "       9          125.382   -14.017  3.55271e-15\n",
      "7      4     -5.08242e-15   151.243      141.245\n",
      "       5      5.08242e-15   157.757     -160.789\n",
      "8      5     -5.53271e-15   156.515      158.591\n",
      "       6      5.53271e-15   152.485       -146.5\n"
     ]
    }
   ],
   "source": [
    "def joint_displacements():\n",
    "    jt_displacements = np.zeros(ncjt*nj).reshape(ncjt*nj,1)\n",
    "\n",
    "    for i in range(ncjt*nj):\n",
    "        n= str_number[i]\n",
    "        if n <= ndof:\n",
    "            jt_displacements[i] = displacements[n-1]\n",
    "        else:\n",
    "            jt_displacements[i] = 0\n",
    "    jt_displacements.reshape(nj,-1)\n",
    "    joint_no = joint_data.joint.values\n",
    "    final = pd.DataFrame(jt_displacements.reshape(nj,-1),columns=['x_disp','y_disp','rot'],index =joint_no )\n",
    "    final.index.name = 'joint.no'\n",
    "    return (jt_displacements,final)\n",
    "\n",
    "\n",
    "def suport_reactions():\n",
    "    sup_reactions = np.zeros(ncjt*ns).reshape(ncjt*ns,1)\n",
    "    j = 0        \n",
    "    for i in suport_data.suport:\n",
    "        j+=ncjt\n",
    "        n1 = str_number[ncjt*i-3].item()\n",
    "        n2 = str_number[ncjt*i-2].item()\n",
    "        n3 = str_number[ncjt*i-1].item()\n",
    "        if n1> ndof:\n",
    "            sup_reactions[j-3] = reactions[n1-ndof-1]\n",
    "        else:\n",
    "            None\n",
    "        if n2 > ndof:\n",
    "            sup_reactions[j-2] = reactions[n2-ndof-1]\n",
    "        else:\n",
    "            None\n",
    "        if n3 > ndof:\n",
    "            sup_reactions[j-1] = reactions[n3-ndof-1]\n",
    "        else:\n",
    "            None\n",
    "    suport_joints = suport_data.suport.values\n",
    "    final = pd.DataFrame(sup_reactions.reshape(ns,-1),columns=['x_reac','y_reac','moment'], index=suport_joints)\n",
    "    final.index.name = 'joint.no'\n",
    "    return final\n",
    "\n",
    "\n",
    "def internal_forces():\n",
    "    index = pd.MultiIndex(levels=[[],[]],codes=[[],[]],names=[u'member', u'joint'])\n",
    "    int_forces = pd.DataFrame(index= index,columns=['axial_force','shear','moment'])\n",
    "    jd,_ = joint_displacements()\n",
    "    for member in member_data.member.values:\n",
    "        start = member_data[member_data.member == member].start.item()\n",
    "        end = member_data[member_data.member == member].end.item()\n",
    "        T = transformation_matrix(member)\n",
    "        k_local,k_global,_ = local_and_global_stiffness_matrix(member)\n",
    "        Qf = member_equivalent_joint_loadvector(member)\n",
    "        global_disp = np.array([jd[(ncjt*start)-3],jd[(ncjt*start)-2],jd[(ncjt*start)-1],\n",
    "                                jd[(ncjt*end)-3],jd[(ncjt*end)-2],jd[(ncjt*end)-1]])\n",
    "        local_disp =  np.dot(T,global_disp)\n",
    "        local_forces = np.dot(k_local,local_disp)+ Qf\n",
    "        local_forces = local_forces.reshape(-1,3)\n",
    "        int_forces.loc[(member,start),:] = local_forces[0]\n",
    "        int_forces.loc[(member,end),:] = local_forces[1] \n",
    "    \n",
    "    return int_forces\n",
    "\n",
    "\n",
    "print(joint_displacements()[1],'\\n','\\n',suport_reactions(),'\\n','\\n',internal_forces())"
   ]
  },
  {
   "cell_type": "code",
   "execution_count": null,
   "metadata": {},
   "outputs": [],
   "source": []
  },
  {
   "cell_type": "code",
   "execution_count": null,
   "metadata": {},
   "outputs": [],
   "source": []
  },
  {
   "cell_type": "code",
   "execution_count": null,
   "metadata": {},
   "outputs": [],
   "source": []
  },
  {
   "cell_type": "code",
   "execution_count": null,
   "metadata": {},
   "outputs": [],
   "source": []
  },
  {
   "cell_type": "code",
   "execution_count": null,
   "metadata": {},
   "outputs": [],
   "source": []
  }
 ],
 "metadata": {
  "kernelspec": {
   "display_name": "Python 3",
   "language": "python",
   "name": "python3"
  },
  "language_info": {
   "codemirror_mode": {
    "name": "ipython",
    "version": 3
   },
   "file_extension": ".py",
   "mimetype": "text/x-python",
   "name": "python",
   "nbconvert_exporter": "python",
   "pygments_lexer": "ipython3",
   "version": "3.8.5"
  }
 },
 "nbformat": 4,
 "nbformat_minor": 4
}
